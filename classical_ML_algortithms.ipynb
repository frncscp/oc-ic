{
  "nbformat": 4,
  "nbformat_minor": 0,
  "metadata": {
    "colab": {
      "provenance": [],
      "machine_shape": "hm",
      "collapsed_sections": [
        "ewnPbgQGVc_U",
        "rG_VjQQcVnL7"
      ]
    },
    "kernelspec": {
      "name": "python3",
      "display_name": "Python 3"
    },
    "language_info": {
      "name": "python"
    }
  },
  "cells": [
    {
      "cell_type": "code",
      "source": [
        "from google.colab import drive\n",
        "drive.mount('/content/drive')"
      ],
      "metadata": {
        "colab": {
          "base_uri": "https://localhost:8080/"
        },
        "id": "rksTtScVPyxV",
        "outputId": "ed76f095-d678-48c3-84d4-db40bcc2eeb8"
      },
      "execution_count": null,
      "outputs": [
        {
          "output_type": "stream",
          "name": "stdout",
          "text": [
            "Mounted at /content/drive\n"
          ]
        }
      ]
    },
    {
      "cell_type": "markdown",
      "source": [
        "## Dataset preprocessing\n",
        "\n",
        "Image (224x224) -> PCA"
      ],
      "metadata": {
        "id": "ewnPbgQGVc_U"
      }
    },
    {
      "cell_type": "code",
      "execution_count": null,
      "metadata": {
        "id": "RgfziBDSPp-y",
        "colab": {
          "base_uri": "https://localhost:8080/"
        },
        "outputId": "a87f8bf9-e48b-459f-854c-04f2632fd385"
      },
      "outputs": [
        {
          "output_type": "stream",
          "name": "stdout",
          "text": [
            "loading... category : Patacon-True\n",
            "loaded category:Patacon-True successfully\n",
            "loading... category : Patacon-False\n"
          ]
        },
        {
          "output_type": "stream",
          "name": "stderr",
          "text": [
            "/usr/local/lib/python3.10/dist-packages/PIL/Image.py:996: UserWarning: Palette images with Transparency expressed in bytes should be converted to RGBA images\n",
            "  warnings.warn(\n"
          ]
        },
        {
          "output_type": "stream",
          "name": "stdout",
          "text": [
            "loaded category:Patacon-False successfully\n",
            "Splitted Successfully\n"
          ]
        }
      ],
      "source": [
        "import pandas as pd\n",
        "import os\n",
        "from skimage.transform import resize\n",
        "from skimage.io import imread\n",
        "import numpy as np\n",
        "import matplotlib.pyplot as plt\n",
        "from sklearn.model_selection import train_test_split\n",
        "\n",
        "\n",
        "Categories=['Patacon-True','Patacon-False']\n",
        "flat_data_arr=[] #input array\n",
        "target_arr=[] #output array\n",
        "datadir='/content/drive/MyDrive/patacon-730'\n",
        "#path which contains all the categories of images\n",
        "for i in Categories:\n",
        "\n",
        "    print(f'loading... category : {i}')\n",
        "    path=os.path.join(datadir,i)\n",
        "    for img in os.listdir(path):\n",
        "        img_array=imread(os.path.join(path,img))\n",
        "        img_resized=resize(img_array,(224,224,3))\n",
        "        flat_data_arr.append(img_resized.flatten())\n",
        "        target_arr.append(Categories.index(i))\n",
        "    print(f'loaded category:{i} successfully')\n",
        "flat_data=np.array(flat_data_arr)\n",
        "target=np.array(target_arr)\n",
        "df=pd.DataFrame(flat_data) #dataframe\n",
        "df['Target']=target\n",
        "x=df.iloc[:,:-1] #input data\n",
        "y=df.iloc[:,-1] #output data\n",
        "\n",
        "x_train,x_test,y_train,y_test=train_test_split(x,y,test_size=0.20,random_state=77,stratify=y)\n",
        "print('Splitted Successfully')"
      ]
    },
    {
      "cell_type": "code",
      "source": [
        "from sklearn.decomposition import PCA\n",
        "pca_dims = PCA()\n",
        "pca_dims.fit(x_train)"
      ],
      "metadata": {
        "colab": {
          "base_uri": "https://localhost:8080/",
          "height": 75
        },
        "id": "yccdTmT43k_l",
        "outputId": "0dfcee98-76d1-41c3-9327-64ea11589e0f"
      },
      "execution_count": null,
      "outputs": [
        {
          "output_type": "execute_result",
          "data": {
            "text/plain": [
              "PCA()"
            ],
            "text/html": [
              "<style>#sk-container-id-1 {color: black;background-color: white;}#sk-container-id-1 pre{padding: 0;}#sk-container-id-1 div.sk-toggleable {background-color: white;}#sk-container-id-1 label.sk-toggleable__label {cursor: pointer;display: block;width: 100%;margin-bottom: 0;padding: 0.3em;box-sizing: border-box;text-align: center;}#sk-container-id-1 label.sk-toggleable__label-arrow:before {content: \"▸\";float: left;margin-right: 0.25em;color: #696969;}#sk-container-id-1 label.sk-toggleable__label-arrow:hover:before {color: black;}#sk-container-id-1 div.sk-estimator:hover label.sk-toggleable__label-arrow:before {color: black;}#sk-container-id-1 div.sk-toggleable__content {max-height: 0;max-width: 0;overflow: hidden;text-align: left;background-color: #f0f8ff;}#sk-container-id-1 div.sk-toggleable__content pre {margin: 0.2em;color: black;border-radius: 0.25em;background-color: #f0f8ff;}#sk-container-id-1 input.sk-toggleable__control:checked~div.sk-toggleable__content {max-height: 200px;max-width: 100%;overflow: auto;}#sk-container-id-1 input.sk-toggleable__control:checked~label.sk-toggleable__label-arrow:before {content: \"▾\";}#sk-container-id-1 div.sk-estimator input.sk-toggleable__control:checked~label.sk-toggleable__label {background-color: #d4ebff;}#sk-container-id-1 div.sk-label input.sk-toggleable__control:checked~label.sk-toggleable__label {background-color: #d4ebff;}#sk-container-id-1 input.sk-hidden--visually {border: 0;clip: rect(1px 1px 1px 1px);clip: rect(1px, 1px, 1px, 1px);height: 1px;margin: -1px;overflow: hidden;padding: 0;position: absolute;width: 1px;}#sk-container-id-1 div.sk-estimator {font-family: monospace;background-color: #f0f8ff;border: 1px dotted black;border-radius: 0.25em;box-sizing: border-box;margin-bottom: 0.5em;}#sk-container-id-1 div.sk-estimator:hover {background-color: #d4ebff;}#sk-container-id-1 div.sk-parallel-item::after {content: \"\";width: 100%;border-bottom: 1px solid gray;flex-grow: 1;}#sk-container-id-1 div.sk-label:hover label.sk-toggleable__label {background-color: #d4ebff;}#sk-container-id-1 div.sk-serial::before {content: \"\";position: absolute;border-left: 1px solid gray;box-sizing: border-box;top: 0;bottom: 0;left: 50%;z-index: 0;}#sk-container-id-1 div.sk-serial {display: flex;flex-direction: column;align-items: center;background-color: white;padding-right: 0.2em;padding-left: 0.2em;position: relative;}#sk-container-id-1 div.sk-item {position: relative;z-index: 1;}#sk-container-id-1 div.sk-parallel {display: flex;align-items: stretch;justify-content: center;background-color: white;position: relative;}#sk-container-id-1 div.sk-item::before, #sk-container-id-1 div.sk-parallel-item::before {content: \"\";position: absolute;border-left: 1px solid gray;box-sizing: border-box;top: 0;bottom: 0;left: 50%;z-index: -1;}#sk-container-id-1 div.sk-parallel-item {display: flex;flex-direction: column;z-index: 1;position: relative;background-color: white;}#sk-container-id-1 div.sk-parallel-item:first-child::after {align-self: flex-end;width: 50%;}#sk-container-id-1 div.sk-parallel-item:last-child::after {align-self: flex-start;width: 50%;}#sk-container-id-1 div.sk-parallel-item:only-child::after {width: 0;}#sk-container-id-1 div.sk-dashed-wrapped {border: 1px dashed gray;margin: 0 0.4em 0.5em 0.4em;box-sizing: border-box;padding-bottom: 0.4em;background-color: white;}#sk-container-id-1 div.sk-label label {font-family: monospace;font-weight: bold;display: inline-block;line-height: 1.2em;}#sk-container-id-1 div.sk-label-container {text-align: center;}#sk-container-id-1 div.sk-container {/* jupyter's `normalize.less` sets `[hidden] { display: none; }` but bootstrap.min.css set `[hidden] { display: none !important; }` so we also need the `!important` here to be able to override the default hidden behavior on the sphinx rendered scikit-learn.org. See: https://github.com/scikit-learn/scikit-learn/issues/21755 */display: inline-block !important;position: relative;}#sk-container-id-1 div.sk-text-repr-fallback {display: none;}</style><div id=\"sk-container-id-1\" class=\"sk-top-container\"><div class=\"sk-text-repr-fallback\"><pre>PCA()</pre><b>In a Jupyter environment, please rerun this cell to show the HTML representation or trust the notebook. <br />On GitHub, the HTML representation is unable to render, please try loading this page with nbviewer.org.</b></div><div class=\"sk-container\" hidden><div class=\"sk-item\"><div class=\"sk-estimator sk-toggleable\"><input class=\"sk-toggleable__control sk-hidden--visually\" id=\"sk-estimator-id-1\" type=\"checkbox\" checked><label for=\"sk-estimator-id-1\" class=\"sk-toggleable__label sk-toggleable__label-arrow\">PCA</label><div class=\"sk-toggleable__content\"><pre>PCA()</pre></div></div></div></div></div>"
            ]
          },
          "metadata": {},
          "execution_count": 4
        }
      ]
    },
    {
      "cell_type": "code",
      "source": [
        "features = [i/100 for i in range(10, 100, 1)]\n",
        "cumsum = np.cumsum(pca_dims.explained_variance_ratio_)\n",
        "cumsums = [np.argmax(cumsum >= feat) + 1 for feat in features]\n",
        "plt.title('Número de Componentes vs. Porcentaje de Características conservadas')\n",
        "plt.xlabel('Número de Componentes')\n",
        "plt.ylabel('Porcentaje de Características conservadas')\n",
        "plt.plot(cumsums, features) #número de componentes vs cuántas características de la imagen puede conservar"
      ],
      "metadata": {
        "colab": {
          "base_uri": "https://localhost:8080/",
          "height": 491
        },
        "id": "4vvJwvaf4Tvk",
        "outputId": "201db29f-5c67-4601-f659-1eb09b1f65d8"
      },
      "execution_count": null,
      "outputs": [
        {
          "output_type": "execute_result",
          "data": {
            "text/plain": [
              "[<matplotlib.lines.Line2D at 0x7f6a63fc7f40>]"
            ]
          },
          "metadata": {},
          "execution_count": 7
        },
        {
          "output_type": "display_data",
          "data": {
            "text/plain": [
              "<Figure size 640x480 with 1 Axes>"
            ],
            "image/png": "[encoded data removed]"
          },
          "metadata": {}
        }
      ]
    },
    {
      "cell_type": "code",
      "source": [
        "values = {fraction : feats for fraction, feats in zip(features, cumsums)}"
      ],
      "metadata": {
        "id": "4e6WQ8nX4eRN"
      },
      "execution_count": null,
      "outputs": []
    },
    {
      "cell_type": "code",
      "source": [
        "comps = values[0.95] #el 96% de las características estará en los componentes\n",
        "comps"
      ],
      "metadata": {
        "colab": {
          "base_uri": "https://localhost:8080/"
        },
        "id": "KDb5N3K05MqX",
        "outputId": "4bafc5c6-8ab1-436b-c35a-1a6a8d4aa0d7"
      },
      "execution_count": null,
      "outputs": [
        {
          "output_type": "execute_result",
          "data": {
            "text/plain": [
              "420"
            ]
          },
          "metadata": {},
          "execution_count": 6
        }
      ]
    },
    {
      "cell_type": "code",
      "source": [
        "import joblib\n",
        "\n",
        "pca = joblib.load(\"/content/pca_model.pkl\")"
      ],
      "metadata": {
        "id": "dYcBfOVmW011"
      },
      "execution_count": null,
      "outputs": []
    },
    {
      "cell_type": "code",
      "source": [
        "#pca = PCA(n_components=comps)\n",
        "\n",
        "x_train_pca = pca.fit_transform(x_train)\n",
        "x_test_pca = pca.transform(x_test)"
      ],
      "metadata": {
        "id": "xDeM0Srg3O1g"
      },
      "execution_count": null,
      "outputs": []
    },
    {
      "cell_type": "code",
      "source": [
        "joblib.dump(pca, 'pca_model.pkl')"
      ],
      "metadata": {
        "colab": {
          "base_uri": "https://localhost:8080/"
        },
        "id": "HW3zz2qg-Xwe",
        "outputId": "587495d4-049f-4218-a4ce-c65a08691cc5"
      },
      "execution_count": null,
      "outputs": [
        {
          "output_type": "execute_result",
          "data": {
            "text/plain": [
              "['pca_model.pkl']"
            ]
          },
          "metadata": {},
          "execution_count": 47
        }
      ]
    },
    {
      "cell_type": "code",
      "source": [
        "import matplotlib.pyplot as plt\n",
        "import numpy as np\n",
        "\n",
        "explained_variance = pca.explained_variance_ratio_\n",
        "plt.figure(figsize=(10, 5))\n",
        "plt.bar(range(comps), explained_variance, alpha=0.5, align='center', label='individual explained variance')\n",
        "plt.ylabel('Explained variance ratio')\n",
        "plt.xlabel('Principal components')\n",
        "plt.legend(loc='best')\n",
        "plt.tight_layout()"
      ],
      "metadata": {
        "colab": {
          "base_uri": "https://localhost:8080/",
          "height": 507
        },
        "id": "HGAuN_Ofg0HZ",
        "outputId": "afc9244b-34cf-47bf-e467-e3942db2db4e"
      },
      "execution_count": null,
      "outputs": [
        {
          "output_type": "display_data",
          "data": {
            "text/plain": [
              "<Figure size 1000x500 with 1 Axes>"
            ],
            "image/png": "[encoded data removed]"
          },
          "metadata": {}
        }
      ]
    },
    {
      "cell_type": "markdown",
      "source": [
        "## lazypredict\n",
        "\n",
        "F1 score for multiple ML algorithms"
      ],
      "metadata": {
        "id": "rG_VjQQcVnL7"
      }
    },
    {
      "cell_type": "code",
      "source": [
        "!pip install lazypredict"
      ],
      "metadata": {
        "id": "AFtiixEuQVv0",
        "colab": {
          "base_uri": "https://localhost:8080/"
        },
        "outputId": "4ff586be-9650-4edf-882c-34293ba3001e"
      },
      "execution_count": null,
      "outputs": [
        {
          "output_type": "stream",
          "name": "stdout",
          "text": [
            "Requirement already satisfied: lazypredict in /usr/local/lib/python3.10/dist-packages (0.2.12)\n",
            "Requirement already satisfied: click in /usr/local/lib/python3.10/dist-packages (from lazypredict) (8.1.7)\n",
            "Requirement already satisfied: scikit-learn in /usr/local/lib/python3.10/dist-packages (from lazypredict) (1.2.2)\n",
            "Requirement already satisfied: pandas in /usr/local/lib/python3.10/dist-packages (from lazypredict) (1.5.3)\n",
            "Requirement already satisfied: tqdm in /usr/local/lib/python3.10/dist-packages (from lazypredict) (4.66.1)\n",
            "Requirement already satisfied: joblib in /usr/local/lib/python3.10/dist-packages (from lazypredict) (1.3.2)\n",
            "Requirement already satisfied: lightgbm in /usr/local/lib/python3.10/dist-packages (from lazypredict) (4.1.0)\n",
            "Requirement already satisfied: xgboost in /usr/local/lib/python3.10/dist-packages (from lazypredict) (2.0.1)\n",
            "Requirement already satisfied: numpy in /usr/local/lib/python3.10/dist-packages (from lightgbm->lazypredict) (1.23.5)\n",
            "Requirement already satisfied: scipy in /usr/local/lib/python3.10/dist-packages (from lightgbm->lazypredict) (1.11.3)\n",
            "Requirement already satisfied: python-dateutil>=2.8.1 in /usr/local/lib/python3.10/dist-packages (from pandas->lazypredict) (2.8.2)\n",
            "Requirement already satisfied: pytz>=2020.1 in /usr/local/lib/python3.10/dist-packages (from pandas->lazypredict) (2023.3.post1)\n",
            "Requirement already satisfied: threadpoolctl>=2.0.0 in /usr/local/lib/python3.10/dist-packages (from scikit-learn->lazypredict) (3.2.0)\n",
            "Requirement already satisfied: six>=1.5 in /usr/local/lib/python3.10/dist-packages (from python-dateutil>=2.8.1->pandas->lazypredict) (1.16.0)\n"
          ]
        }
      ]
    },
    {
      "cell_type": "code",
      "source": [
        "from lazypredict.Supervised import LazyClassifier\n",
        "\n",
        "clf = LazyClassifier(verbose=4,ignore_warnings=True, custom_metric=None)\n",
        "models,predictions = clf.fit(x_train_pca, x_test_pca, y_train, y_test)"
      ],
      "metadata": {
        "colab": {
          "base_uri": "https://localhost:8080/"
        },
        "id": "f_Labu-aQf8u",
        "outputId": "31d6f864-e6d9-4c3e-d1b4-e54490dec2f1"
      },
      "execution_count": null,
      "outputs": [
        {
          "output_type": "stream",
          "name": "stderr",
          "text": [
            "  3%|▎         | 1/29 [00:03<01:38,  3.52s/it]"
          ]
        },
        {
          "output_type": "stream",
          "name": "stdout",
          "text": [
            "{'Model': 'AdaBoostClassifier', 'Accuracy': 0.7226027397260274, 'Balanced Accuracy': 0.7226027397260274, 'ROC AUC': 0.7226027397260274, 'F1 Score': 0.722443231825383, 'Time taken': 3.5235252380371094}\n"
          ]
        },
        {
          "output_type": "stream",
          "name": "stderr",
          "text": [
            "\r  7%|▋         | 2/29 [00:07<01:37,  3.62s/it]"
          ]
        },
        {
          "output_type": "stream",
          "name": "stdout",
          "text": [
            "{'Model': 'BaggingClassifier', 'Accuracy': 0.7534246575342466, 'Balanced Accuracy': 0.7534246575342466, 'ROC AUC': 0.7534246575342466, 'F1 Score': 0.7507941776113034, 'Time taken': 3.6874186992645264}\n",
            "{'Model': 'BernoulliNB', 'Accuracy': 0.660958904109589, 'Balanced Accuracy': 0.660958904109589, 'ROC AUC': 0.660958904109589, 'F1 Score': 0.6609549276943105, 'Time taken': 0.06476879119873047}\n"
          ]
        },
        {
          "output_type": "stream",
          "name": "stderr",
          "text": [
            "/usr/local/lib/python3.10/dist-packages/sklearn/svm/_base.py:1244: ConvergenceWarning: Liblinear failed to converge, increase the number of iterations.\n",
            "  warnings.warn(\n",
            "/usr/local/lib/python3.10/dist-packages/sklearn/svm/_base.py:1244: ConvergenceWarning: Liblinear failed to converge, increase the number of iterations.\n",
            "  warnings.warn(\n",
            "/usr/local/lib/python3.10/dist-packages/sklearn/svm/_base.py:1244: ConvergenceWarning: Liblinear failed to converge, increase the number of iterations.\n",
            "  warnings.warn(\n",
            "/usr/local/lib/python3.10/dist-packages/sklearn/svm/_base.py:1244: ConvergenceWarning: Liblinear failed to converge, increase the number of iterations.\n",
            "  warnings.warn(\n",
            "/usr/local/lib/python3.10/dist-packages/sklearn/svm/_base.py:1244: ConvergenceWarning: Liblinear failed to converge, increase the number of iterations.\n",
            "  warnings.warn(\n",
            " 14%|█▍        | 4/29 [00:09<00:55,  2.22s/it]"
          ]
        },
        {
          "output_type": "stream",
          "name": "stdout",
          "text": [
            "{'Model': 'CalibratedClassifierCV', 'Accuracy': 0.7602739726027398, 'Balanced Accuracy': 0.7602739726027398, 'ROC AUC': 0.7602739726027398, 'F1 Score': 0.760093896713615, 'Time taken': 2.7062764167785645}\n"
          ]
        },
        {
          "output_type": "stream",
          "name": "stderr",
          "text": [
            "\r 21%|██        | 6/29 [00:10<00:30,  1.31s/it]"
          ]
        },
        {
          "output_type": "stream",
          "name": "stdout",
          "text": [
            "{'Model': 'DecisionTreeClassifier', 'Accuracy': 0.7465753424657534, 'Balanced Accuracy': 0.7465753424657534, 'ROC AUC': 0.7465753424657534, 'F1 Score': 0.7465634529673939, 'Time taken': 0.5435912609100342}\n",
            "{'Model': 'DummyClassifier', 'Accuracy': 0.5, 'Balanced Accuracy': 0.5, 'ROC AUC': 0.5, 'F1 Score': 0.3333333333333333, 'Time taken': 0.04014778137207031}\n",
            "{'Model': 'ExtraTreeClassifier', 'Accuracy': 0.6815068493150684, 'Balanced Accuracy': 0.6815068493150684, 'ROC AUC': 0.6815068493150686, 'F1 Score': 0.6814134375109985, 'Time taken': 0.04401421546936035}\n"
          ]
        },
        {
          "output_type": "stream",
          "name": "stderr",
          "text": [
            " 38%|███▊      | 11/29 [00:11<00:09,  1.87it/s]"
          ]
        },
        {
          "output_type": "stream",
          "name": "stdout",
          "text": [
            "{'Model': 'ExtraTreesClassifier', 'Accuracy': 0.7671232876712328, 'Balanced Accuracy': 0.7671232876712328, 'ROC AUC': 0.7671232876712328, 'F1 Score': 0.7649621212121213, 'Time taken': 0.5926737785339355}\n",
            "{'Model': 'GaussianNB', 'Accuracy': 0.6027397260273972, 'Balanced Accuracy': 0.6027397260273972, 'ROC AUC': 0.6027397260273972, 'F1 Score': 0.5589583333333333, 'Time taken': 0.04770469665527344}\n",
            "{'Model': 'KNeighborsClassifier', 'Accuracy': 0.5856164383561644, 'Balanced Accuracy': 0.5856164383561644, 'ROC AUC': 0.5856164383561644, 'F1 Score': 0.5185260891487129, 'Time taken': 0.0653681755065918}\n"
          ]
        },
        {
          "output_type": "stream",
          "name": "stderr",
          "text": [
            "/usr/local/lib/python3.10/dist-packages/sklearn/semi_supervised/_label_propagation.py:231: RuntimeWarning: invalid value encountered in divide\n",
            "  probabilities /= normalizer\n",
            " 41%|████▏     | 12/29 [00:11<00:07,  2.17it/s]/usr/local/lib/python3.10/dist-packages/sklearn/semi_supervised/_label_propagation.py:231: RuntimeWarning: invalid value encountered in divide\n",
            "  probabilities /= normalizer\n",
            " 45%|████▍     | 13/29 [00:11<00:06,  2.50it/s]"
          ]
        },
        {
          "output_type": "stream",
          "name": "stdout",
          "text": [
            "{'Model': 'LabelPropagation', 'Accuracy': 0.6506849315068494, 'Balanced Accuracy': 0.6506849315068493, 'ROC AUC': 0.6506849315068493, 'F1 Score': 0.6021373230029389, 'Time taken': 0.1333768367767334}\n",
            "{'Model': 'LabelSpreading', 'Accuracy': 0.6506849315068494, 'Balanced Accuracy': 0.6506849315068493, 'ROC AUC': 0.6506849315068493, 'F1 Score': 0.6021373230029389, 'Time taken': 0.17397260665893555}\n"
          ]
        },
        {
          "output_type": "stream",
          "name": "stderr",
          "text": [
            "\r 48%|████▊     | 14/29 [00:12<00:05,  2.51it/s]"
          ]
        },
        {
          "output_type": "stream",
          "name": "stdout",
          "text": [
            "{'Model': 'LinearDiscriminantAnalysis', 'Accuracy': 0.7636986301369864, 'Balanced Accuracy': 0.7636986301369864, 'ROC AUC': 0.7636986301369864, 'F1 Score': 0.7636958586960346, 'Time taken': 0.36899495124816895}\n"
          ]
        },
        {
          "output_type": "stream",
          "name": "stderr",
          "text": [
            "/usr/local/lib/python3.10/dist-packages/sklearn/svm/_base.py:1244: ConvergenceWarning: Liblinear failed to converge, increase the number of iterations.\n",
            "  warnings.warn(\n",
            " 55%|█████▌    | 16/29 [00:12<00:04,  2.61it/s]"
          ]
        },
        {
          "output_type": "stream",
          "name": "stdout",
          "text": [
            "{'Model': 'LinearSVC', 'Accuracy': 0.773972602739726, 'Balanced Accuracy': 0.773972602739726, 'ROC AUC': 0.773972602739726, 'F1 Score': 0.7738771295818276, 'Time taken': 0.7173483371734619}\n",
            "{'Model': 'LogisticRegression', 'Accuracy': 0.7808219178082192, 'Balanced Accuracy': 0.7808219178082192, 'ROC AUC': 0.7808219178082192, 'F1 Score': 0.7808116349988272, 'Time taken': 0.11237859725952148}\n"
          ]
        },
        {
          "output_type": "stream",
          "name": "stderr",
          "text": [
            "\r 59%|█████▊    | 17/29 [00:13<00:03,  3.11it/s]"
          ]
        },
        {
          "output_type": "stream",
          "name": "stdout",
          "text": [
            "{'Model': 'NearestCentroid', 'Accuracy': 0.7636986301369864, 'Balanced Accuracy': 0.7636986301369864, 'ROC AUC': 0.7636986301369864, 'F1 Score': 0.7636958586960346, 'Time taken': 0.15634679794311523}\n"
          ]
        },
        {
          "output_type": "stream",
          "name": "stderr",
          "text": [
            " 66%|██████▌   | 19/29 [00:13<00:02,  3.50it/s]"
          ]
        },
        {
          "output_type": "stream",
          "name": "stdout",
          "text": [
            "{'Model': 'NuSVC', 'Accuracy': 0.7842465753424658, 'Balanced Accuracy': 0.7842465753424658, 'ROC AUC': 0.7842465753424659, 'F1 Score': 0.7835127978817299, 'Time taken': 0.41762256622314453}\n",
            "{'Model': 'PassiveAggressiveClassifier', 'Accuracy': 0.7363013698630136, 'Balanced Accuracy': 0.7363013698630136, 'ROC AUC': 0.7363013698630136, 'F1 Score': 0.7362240289069556, 'Time taken': 0.125258207321167}\n"
          ]
        },
        {
          "output_type": "stream",
          "name": "stderr",
          "text": [
            "\r 69%|██████▉   | 20/29 [00:13<00:02,  4.28it/s]"
          ]
        },
        {
          "output_type": "stream",
          "name": "stdout",
          "text": [
            "{'Model': 'Perceptron', 'Accuracy': 0.7294520547945206, 'Balanced Accuracy': 0.7294520547945205, 'ROC AUC': 0.7294520547945206, 'F1 Score': 0.7293727049824611, 'Time taken': 0.10241961479187012}\n"
          ]
        },
        {
          "output_type": "stream",
          "name": "stderr",
          "text": [
            "\r 72%|███████▏  | 21/29 [00:13<00:01,  4.06it/s]"
          ]
        },
        {
          "output_type": "stream",
          "name": "stdout",
          "text": [
            "{'Model': 'QuadraticDiscriminantAnalysis', 'Accuracy': 0.75, 'Balanced Accuracy': 0.75, 'ROC AUC': 0.75, 'F1 Score': 0.7342906647719483, 'Time taken': 0.2734673023223877}\n"
          ]
        },
        {
          "output_type": "stream",
          "name": "stderr",
          "text": [
            " 79%|███████▉  | 23/29 [00:16<00:03,  1.71it/s]"
          ]
        },
        {
          "output_type": "stream",
          "name": "stdout",
          "text": [
            "{'Model': 'RandomForestClassifier', 'Accuracy': 0.7808219178082192, 'Balanced Accuracy': 0.7808219178082192, 'ROC AUC': 0.7808219178082192, 'F1 Score': 0.7807293377763177, 'Time taken': 2.0852982997894287}\n",
            "{'Model': 'RidgeClassifier', 'Accuracy': 0.7636986301369864, 'Balanced Accuracy': 0.7636986301369864, 'ROC AUC': 0.7636986301369864, 'F1 Score': 0.7636958586960346, 'Time taken': 0.10049295425415039}\n"
          ]
        },
        {
          "output_type": "stream",
          "name": "stderr",
          "text": [
            " 86%|████████▌ | 25/29 [00:16<00:01,  2.58it/s]"
          ]
        },
        {
          "output_type": "stream",
          "name": "stdout",
          "text": [
            "{'Model': 'RidgeClassifierCV', 'Accuracy': 0.7671232876712328, 'Balanced Accuracy': 0.7671232876712328, 'ROC AUC': 0.7671232876712328, 'F1 Score': 0.7671123621862539, 'Time taken': 0.2928125858306885}\n",
            "{'Model': 'SGDClassifier', 'Accuracy': 0.7602739726027398, 'Balanced Accuracy': 0.7602739726027397, 'ROC AUC': 0.7602739726027398, 'F1 Score': 0.7599924850875956, 'Time taken': 0.1087486743927002}\n"
          ]
        },
        {
          "output_type": "stream",
          "name": "stderr",
          "text": [
            "\r 90%|████████▉ | 26/29 [00:17<00:01,  2.52it/s]"
          ]
        },
        {
          "output_type": "stream",
          "name": "stdout",
          "text": [
            "{'Model': 'SVC', 'Accuracy': 0.773972602739726, 'Balanced Accuracy': 0.773972602739726, 'ROC AUC': 0.7739726027397261, 'F1 Score': 0.771875, 'Time taken': 0.41861963272094727}\n"
          ]
        },
        {
          "output_type": "stream",
          "name": "stderr",
          "text": [
            "\r 97%|█████████▋| 28/29 [00:19<00:00,  1.41it/s]"
          ]
        },
        {
          "output_type": "stream",
          "name": "stdout",
          "text": [
            "{'Model': 'XGBClassifier', 'Accuracy': 0.8013698630136986, 'Balanced Accuracy': 0.8013698630136986, 'ROC AUC': 0.8013698630136986, 'F1 Score': 0.8012859623597879, 'Time taken': 2.1439504623413086}\n",
            "[LightGBM] [Info] Number of positive: 584, number of negative: 584\n",
            "[LightGBM] [Info] Auto-choosing col-wise multi-threading, the overhead of testing was 0.004994 seconds.\n",
            "You can set `force_col_wise=true` to remove the overhead.\n",
            "[LightGBM] [Info] Total Bins 107100\n",
            "[LightGBM] [Info] Number of data points in the train set: 1168, number of used features: 420\n",
            "[LightGBM] [Info] [binary:BoostFromScore]: pavg=0.500000 -> initscore=0.000000\n"
          ]
        },
        {
          "output_type": "stream",
          "name": "stderr",
          "text": [
            "100%|██████████| 29/29 [00:20<00:00,  1.41it/s]"
          ]
        },
        {
          "output_type": "stream",
          "name": "stdout",
          "text": [
            "{'Model': 'LGBMClassifier', 'Accuracy': 0.8184931506849316, 'Balanced Accuracy': 0.8184931506849316, 'ROC AUC': 0.8184931506849316, 'F1 Score': 0.818132675245314, 'Time taken': 1.3987326622009277}\n"
          ]
        },
        {
          "output_type": "stream",
          "name": "stderr",
          "text": [
            "\n"
          ]
        }
      ]
    },
    {
      "cell_type": "code",
      "source": [
        "import seaborn as sns\n",
        "\n",
        "plt.figure(figsize=(5, 10))\n",
        "sns.set_theme(style=\"whitegrid\")\n",
        "ax = sns.barplot(y=predictions.index, x=\"F1 Score\", data=predictions)"
      ],
      "metadata": {
        "colab": {
          "base_uri": "https://localhost:8080/",
          "height": 858
        },
        "id": "F_bK7tMi5jJH",
        "outputId": "9bf66efa-ab80-40ee-b64d-94b07155f19e"
      },
      "execution_count": null,
      "outputs": [
        {
          "output_type": "display_data",
          "data": {
            "text/plain": [
              "<Figure size 500x1000 with 1 Axes>"
            ],
            "image/png": "[encoded data removed]"
          },
          "metadata": {}
        }
      ]
    },
    {
      "cell_type": "code",
      "source": [
        "file_path = 'lazypredict_results.xlsx'  # Define the file path where you want to save the Excel file\n",
        "models.to_excel(file_path, index=True)"
      ],
      "metadata": {
        "id": "ZI-rjgfQiNxT"
      },
      "execution_count": null,
      "outputs": []
    },
    {
      "cell_type": "markdown",
      "source": [
        "## Gridsearchcv\n",
        "\n",
        "Choose multiple parameters and see which combinations get the best f1 scores"
      ],
      "metadata": {
        "id": "RJ-0lt5BXXc0"
      }
    },
    {
      "cell_type": "code",
      "source": [
        "from sklearn.model_selection import GridSearchCV\n",
        "def predict(model, pca, url, threshold = .8):\n",
        "  img=imread(url)\n",
        "  plt.imshow(img)\n",
        "  plt.show()\n",
        "  img_resize = resize(img,(224,224,3))\n",
        "  l=[img_resize.flatten()]\n",
        "  l = pca.transform(l)\n",
        "  probability=model.predict_proba(l)\n",
        "\n",
        "  prediction = \"Patacon-True\" if probability[0][Categories.index(\"Patacon-True\")] > threshold else \"Patacon-False\" #change classes if necesarry and logic if there are more than two classes\n",
        "  print(probability[0][Categories.index(\"Patacon-True\")])\n",
        "  print(\"The predicted image is : \"+ prediction)"
      ],
      "metadata": {
        "id": "aWYKrV9KXyC1"
      },
      "execution_count": null,
      "outputs": []
    },
    {
      "cell_type": "code",
      "source": [
        "from sklearn import svm\n",
        "\n",
        "param_grid={'C':[0.1,1,10,100,1000],'gamma':[0.00001, 0.0001,0.001,0.1,1,1.5, 2],'kernel':['rbf','poly','sigmoid']}\n",
        "svc=svm.SVC(probability=True)\n",
        "model=GridSearchCV(svc,param_grid, verbose = 4)\n",
        "model.fit(x_train_pca ,y_train)"
      ],
      "metadata": {
        "id": "j-X3eQJMrok0",
        "colab": {
          "base_uri": "https://localhost:8080/",
          "height": 1000
        },
        "outputId": "9d07ce22-e17e-42a8-9e3b-55ea0f6a0df4"
      },
      "execution_count": null,
      "outputs": [
        {
          "output_type": "stream",
          "name": "stdout",
          "text": [
            "Fitting 5 folds for each of 105 candidates, totalling 525 fits\n",
            "[CV 1/5] END ....C=0.1, gamma=1e-05, kernel=rbf;, score=0.654 total time=   1.0s\n",
            "[CV 2/5] END ....C=0.1, gamma=1e-05, kernel=rbf;, score=0.735 total time=   1.0s\n",
            "[CV 3/5] END ....C=0.1, gamma=1e-05, kernel=rbf;, score=0.692 total time=   0.9s\n",
            "[CV 4/5] END ....C=0.1, gamma=1e-05, kernel=rbf;, score=0.639 total time=   0.9s\n",
            "[CV 5/5] END ....C=0.1, gamma=1e-05, kernel=rbf;, score=0.734 total time=   1.0s\n",
            "[CV 1/5] END ...C=0.1, gamma=1e-05, kernel=poly;, score=0.500 total time=   0.8s\n",
            "[CV 2/5] END ...C=0.1, gamma=1e-05, kernel=poly;, score=0.509 total time=   0.8s\n",
            "[CV 3/5] END ...C=0.1, gamma=1e-05, kernel=poly;, score=0.491 total time=   0.8s\n",
            "[CV 4/5] END ...C=0.1, gamma=1e-05, kernel=poly;, score=0.498 total time=   0.8s\n",
            "[CV 5/5] END ...C=0.1, gamma=1e-05, kernel=poly;, score=0.498 total time=   0.8s\n",
            "[CV 1/5] END C=0.1, gamma=1e-05, kernel=sigmoid;, score=0.645 total time=   0.9s\n",
            "[CV 2/5] END C=0.1, gamma=1e-05, kernel=sigmoid;, score=0.709 total time=   0.8s\n",
            "[CV 3/5] END C=0.1, gamma=1e-05, kernel=sigmoid;, score=0.662 total time=   0.9s\n",
            "[CV 4/5] END C=0.1, gamma=1e-05, kernel=sigmoid;, score=0.639 total time=   0.9s\n",
            "[CV 5/5] END C=0.1, gamma=1e-05, kernel=sigmoid;, score=0.730 total time=   0.9s\n",
            "[CV 1/5] END ...C=0.1, gamma=0.0001, kernel=rbf;, score=0.675 total time=   0.9s\n",
            "[CV 2/5] END ...C=0.1, gamma=0.0001, kernel=rbf;, score=0.744 total time=   1.0s\n",
            "[CV 3/5] END ...C=0.1, gamma=0.0001, kernel=rbf;, score=0.697 total time=   0.9s\n",
            "[CV 4/5] END ...C=0.1, gamma=0.0001, kernel=rbf;, score=0.639 total time=   0.9s\n",
            "[CV 5/5] END ...C=0.1, gamma=0.0001, kernel=rbf;, score=0.734 total time=   1.0s\n",
            "[CV 1/5] END ..C=0.1, gamma=0.0001, kernel=poly;, score=0.692 total time=   0.7s\n",
            "[CV 2/5] END ..C=0.1, gamma=0.0001, kernel=poly;, score=0.744 total time=   0.7s\n",
            "[CV 3/5] END ..C=0.1, gamma=0.0001, kernel=poly;, score=0.718 total time=   0.7s\n",
            "[CV 4/5] END ..C=0.1, gamma=0.0001, kernel=poly;, score=0.657 total time=   0.7s\n",
            "[CV 5/5] END ..C=0.1, gamma=0.0001, kernel=poly;, score=0.734 total time=   0.7s\n",
            "[CV 1/5] END C=0.1, gamma=0.0001, kernel=sigmoid;, score=0.684 total time=   0.8s\n",
            "[CV 2/5] END C=0.1, gamma=0.0001, kernel=sigmoid;, score=0.735 total time=   0.9s\n",
            "[CV 3/5] END C=0.1, gamma=0.0001, kernel=sigmoid;, score=0.714 total time=   0.8s\n",
            "[CV 4/5] END C=0.1, gamma=0.0001, kernel=sigmoid;, score=0.674 total time=   0.8s\n",
            "[CV 5/5] END C=0.1, gamma=0.0001, kernel=sigmoid;, score=0.734 total time=   0.9s\n",
            "[CV 1/5] END ....C=0.1, gamma=0.001, kernel=rbf;, score=0.603 total time=   1.0s\n",
            "[CV 2/5] END ....C=0.1, gamma=0.001, kernel=rbf;, score=0.598 total time=   1.1s\n",
            "[CV 3/5] END ....C=0.1, gamma=0.001, kernel=rbf;, score=0.667 total time=   1.0s\n",
            "[CV 4/5] END ....C=0.1, gamma=0.001, kernel=rbf;, score=0.498 total time=   1.0s\n",
            "[CV 5/5] END ....C=0.1, gamma=0.001, kernel=rbf;, score=0.498 total time=   1.0s\n",
            "[CV 1/5] END ...C=0.1, gamma=0.001, kernel=poly;, score=0.761 total time=   0.8s\n",
            "[CV 2/5] END ...C=0.1, gamma=0.001, kernel=poly;, score=0.791 total time=   0.8s\n",
            "[CV 3/5] END ...C=0.1, gamma=0.001, kernel=poly;, score=0.752 total time=   0.8s\n",
            "[CV 4/5] END ...C=0.1, gamma=0.001, kernel=poly;, score=0.773 total time=   0.8s\n",
            "[CV 5/5] END ...C=0.1, gamma=0.001, kernel=poly;, score=0.811 total time=   0.8s\n",
            "[CV 1/5] END C=0.1, gamma=0.001, kernel=sigmoid;, score=0.628 total time=   0.6s\n",
            "[CV 2/5] END C=0.1, gamma=0.001, kernel=sigmoid;, score=0.632 total time=   0.6s\n",
            "[CV 3/5] END C=0.1, gamma=0.001, kernel=sigmoid;, score=0.637 total time=   0.6s\n",
            "[CV 4/5] END C=0.1, gamma=0.001, kernel=sigmoid;, score=0.597 total time=   0.7s\n",
            "[CV 5/5] END C=0.1, gamma=0.001, kernel=sigmoid;, score=0.609 total time=   0.7s\n",
            "[CV 1/5] END ......C=0.1, gamma=0.1, kernel=rbf;, score=0.551 total time=   1.0s\n",
            "[CV 2/5] END ......C=0.1, gamma=0.1, kernel=rbf;, score=0.590 total time=   1.0s\n",
            "[CV 3/5] END ......C=0.1, gamma=0.1, kernel=rbf;, score=0.577 total time=   1.0s\n",
            "[CV 4/5] END ......C=0.1, gamma=0.1, kernel=rbf;, score=0.498 total time=   1.1s\n",
            "[CV 5/5] END ......C=0.1, gamma=0.1, kernel=rbf;, score=0.498 total time=   1.0s\n",
            "[CV 1/5] END .....C=0.1, gamma=0.1, kernel=poly;, score=0.769 total time=   0.8s\n",
            "[CV 2/5] END .....C=0.1, gamma=0.1, kernel=poly;, score=0.791 total time=   0.8s\n",
            "[CV 3/5] END .....C=0.1, gamma=0.1, kernel=poly;, score=0.752 total time=   0.8s\n",
            "[CV 4/5] END .....C=0.1, gamma=0.1, kernel=poly;, score=0.785 total time=   0.8s\n",
            "[CV 5/5] END .....C=0.1, gamma=0.1, kernel=poly;, score=0.798 total time=   0.8s\n",
            "[CV 1/5] END ..C=0.1, gamma=0.1, kernel=sigmoid;, score=0.611 total time=   0.5s\n",
            "[CV 2/5] END ..C=0.1, gamma=0.1, kernel=sigmoid;, score=0.624 total time=   0.5s\n",
            "[CV 3/5] END ..C=0.1, gamma=0.1, kernel=sigmoid;, score=0.615 total time=   0.5s\n",
            "[CV 4/5] END ..C=0.1, gamma=0.1, kernel=sigmoid;, score=0.549 total time=   0.4s\n",
            "[CV 5/5] END ..C=0.1, gamma=0.1, kernel=sigmoid;, score=0.575 total time=   0.5s\n",
            "[CV 1/5] END ........C=0.1, gamma=1, kernel=rbf;, score=0.551 total time=   1.1s\n",
            "[CV 2/5] END ........C=0.1, gamma=1, kernel=rbf;, score=0.538 total time=   1.0s\n",
            "[CV 3/5] END ........C=0.1, gamma=1, kernel=rbf;, score=0.530 total time=   1.1s\n",
            "[CV 4/5] END ........C=0.1, gamma=1, kernel=rbf;, score=0.498 total time=   1.1s\n",
            "[CV 5/5] END ........C=0.1, gamma=1, kernel=rbf;, score=0.498 total time=   1.0s\n",
            "[CV 1/5] END .......C=0.1, gamma=1, kernel=poly;, score=0.769 total time=   0.8s\n",
            "[CV 2/5] END .......C=0.1, gamma=1, kernel=poly;, score=0.791 total time=   0.9s\n",
            "[CV 3/5] END .......C=0.1, gamma=1, kernel=poly;, score=0.752 total time=   0.9s\n",
            "[CV 4/5] END .......C=0.1, gamma=1, kernel=poly;, score=0.785 total time=   1.0s\n",
            "[CV 5/5] END .......C=0.1, gamma=1, kernel=poly;, score=0.798 total time=   0.9s\n",
            "[CV 1/5] END ....C=0.1, gamma=1, kernel=sigmoid;, score=0.577 total time=   0.5s\n",
            "[CV 2/5] END ....C=0.1, gamma=1, kernel=sigmoid;, score=0.598 total time=   0.5s\n",
            "[CV 3/5] END ....C=0.1, gamma=1, kernel=sigmoid;, score=0.547 total time=   0.5s\n",
            "[CV 4/5] END ....C=0.1, gamma=1, kernel=sigmoid;, score=0.549 total time=   0.4s\n",
            "[CV 5/5] END ....C=0.1, gamma=1, kernel=sigmoid;, score=0.571 total time=   0.5s\n",
            "[CV 1/5] END ......C=0.1, gamma=1.5, kernel=rbf;, score=0.534 total time=   1.0s\n",
            "[CV 2/5] END ......C=0.1, gamma=1.5, kernel=rbf;, score=0.534 total time=   1.0s\n",
            "[CV 3/5] END ......C=0.1, gamma=1.5, kernel=rbf;, score=0.526 total time=   1.0s\n",
            "[CV 4/5] END ......C=0.1, gamma=1.5, kernel=rbf;, score=0.498 total time=   1.1s\n",
            "[CV 5/5] END ......C=0.1, gamma=1.5, kernel=rbf;, score=0.498 total time=   1.1s\n",
            "[CV 1/5] END .....C=0.1, gamma=1.5, kernel=poly;, score=0.769 total time=   0.8s\n",
            "[CV 2/5] END .....C=0.1, gamma=1.5, kernel=poly;, score=0.791 total time=   0.8s\n",
            "[CV 3/5] END .....C=0.1, gamma=1.5, kernel=poly;, score=0.752 total time=   0.8s\n",
            "[CV 4/5] END .....C=0.1, gamma=1.5, kernel=poly;, score=0.785 total time=   0.8s\n",
            "[CV 5/5] END .....C=0.1, gamma=1.5, kernel=poly;, score=0.798 total time=   0.8s\n",
            "[CV 1/5] END ..C=0.1, gamma=1.5, kernel=sigmoid;, score=0.577 total time=   0.4s\n",
            "[CV 2/5] END ..C=0.1, gamma=1.5, kernel=sigmoid;, score=0.607 total time=   0.5s\n",
            "[CV 3/5] END ..C=0.1, gamma=1.5, kernel=sigmoid;, score=0.543 total time=   0.5s\n",
            "[CV 4/5] END ..C=0.1, gamma=1.5, kernel=sigmoid;, score=0.605 total time=   0.5s\n",
            "[CV 5/5] END ..C=0.1, gamma=1.5, kernel=sigmoid;, score=0.571 total time=   0.5s\n",
            "[CV 1/5] END ........C=0.1, gamma=2, kernel=rbf;, score=0.526 total time=   1.1s\n",
            "[CV 2/5] END ........C=0.1, gamma=2, kernel=rbf;, score=0.521 total time=   1.1s\n",
            "[CV 3/5] END ........C=0.1, gamma=2, kernel=rbf;, score=0.517 total time=   1.0s\n",
            "[CV 4/5] END ........C=0.1, gamma=2, kernel=rbf;, score=0.498 total time=   1.1s\n",
            "[CV 5/5] END ........C=0.1, gamma=2, kernel=rbf;, score=0.498 total time=   1.1s\n",
            "[CV 1/5] END .......C=0.1, gamma=2, kernel=poly;, score=0.769 total time=   0.8s\n",
            "[CV 2/5] END .......C=0.1, gamma=2, kernel=poly;, score=0.791 total time=   0.8s\n",
            "[CV 3/5] END .......C=0.1, gamma=2, kernel=poly;, score=0.752 total time=   0.8s\n",
            "[CV 4/5] END .......C=0.1, gamma=2, kernel=poly;, score=0.785 total time=   0.8s\n",
            "[CV 5/5] END .......C=0.1, gamma=2, kernel=poly;, score=0.798 total time=   0.8s\n",
            "[CV 1/5] END ....C=0.1, gamma=2, kernel=sigmoid;, score=0.594 total time=   0.5s\n",
            "[CV 2/5] END ....C=0.1, gamma=2, kernel=sigmoid;, score=0.598 total time=   0.5s\n",
            "[CV 3/5] END ....C=0.1, gamma=2, kernel=sigmoid;, score=0.534 total time=   0.5s\n",
            "[CV 4/5] END ....C=0.1, gamma=2, kernel=sigmoid;, score=0.588 total time=   0.4s\n",
            "[CV 5/5] END ....C=0.1, gamma=2, kernel=sigmoid;, score=0.571 total time=   0.5s\n",
            "[CV 1/5] END ......C=1, gamma=1e-05, kernel=rbf;, score=0.726 total time=   0.8s\n",
            "[CV 2/5] END ......C=1, gamma=1e-05, kernel=rbf;, score=0.786 total time=   0.8s\n",
            "[CV 3/5] END ......C=1, gamma=1e-05, kernel=rbf;, score=0.744 total time=   0.8s\n",
            "[CV 4/5] END ......C=1, gamma=1e-05, kernel=rbf;, score=0.700 total time=   0.8s\n",
            "[CV 5/5] END ......C=1, gamma=1e-05, kernel=rbf;, score=0.811 total time=   0.8s\n",
            "[CV 1/5] END .....C=1, gamma=1e-05, kernel=poly;, score=0.500 total time=   0.8s\n",
            "[CV 2/5] END .....C=1, gamma=1e-05, kernel=poly;, score=0.509 total time=   0.8s\n",
            "[CV 3/5] END .....C=1, gamma=1e-05, kernel=poly;, score=0.491 total time=   0.8s\n",
            "[CV 4/5] END .....C=1, gamma=1e-05, kernel=poly;, score=0.502 total time=   0.8s\n",
            "[CV 5/5] END .....C=1, gamma=1e-05, kernel=poly;, score=0.545 total time=   0.8s\n",
            "[CV 1/5] END ..C=1, gamma=1e-05, kernel=sigmoid;, score=0.684 total time=   0.7s\n",
            "[CV 2/5] END ..C=1, gamma=1e-05, kernel=sigmoid;, score=0.739 total time=   0.8s\n",
            "[CV 3/5] END ..C=1, gamma=1e-05, kernel=sigmoid;, score=0.701 total time=   0.7s\n",
            "[CV 4/5] END ..C=1, gamma=1e-05, kernel=sigmoid;, score=0.691 total time=   0.8s\n",
            "[CV 5/5] END ..C=1, gamma=1e-05, kernel=sigmoid;, score=0.790 total time=   0.8s\n",
            "[CV 1/5] END .....C=1, gamma=0.0001, kernel=rbf;, score=0.778 total time=   0.9s\n",
            "[CV 2/5] END .....C=1, gamma=0.0001, kernel=rbf;, score=0.859 total time=   0.8s\n",
            "[CV 3/5] END .....C=1, gamma=0.0001, kernel=rbf;, score=0.791 total time=   0.8s\n",
            "[CV 4/5] END .....C=1, gamma=0.0001, kernel=rbf;, score=0.773 total time=   0.8s\n",
            "[CV 5/5] END .....C=1, gamma=0.0001, kernel=rbf;, score=0.854 total time=   0.9s\n",
            "[CV 1/5] END ....C=1, gamma=0.0001, kernel=poly;, score=0.731 total time=   0.7s\n",
            "[CV 2/5] END ....C=1, gamma=0.0001, kernel=poly;, score=0.803 total time=   0.7s\n",
            "[CV 3/5] END ....C=1, gamma=0.0001, kernel=poly;, score=0.756 total time=   0.7s\n",
            "[CV 4/5] END ....C=1, gamma=0.0001, kernel=poly;, score=0.738 total time=   0.7s\n",
            "[CV 5/5] END ....C=1, gamma=0.0001, kernel=poly;, score=0.807 total time=   0.7s\n",
            "[CV 1/5] END .C=1, gamma=0.0001, kernel=sigmoid;, score=0.679 total time=   0.5s\n",
            "[CV 2/5] END .C=1, gamma=0.0001, kernel=sigmoid;, score=0.709 total time=   0.5s\n",
            "[CV 3/5] END .C=1, gamma=0.0001, kernel=sigmoid;, score=0.667 total time=   0.5s\n",
            "[CV 4/5] END .C=1, gamma=0.0001, kernel=sigmoid;, score=0.665 total time=   0.5s\n",
            "[CV 5/5] END .C=1, gamma=0.0001, kernel=sigmoid;, score=0.661 total time=   0.6s\n",
            "[CV 1/5] END ......C=1, gamma=0.001, kernel=rbf;, score=0.637 total time=   1.0s\n",
            "[CV 2/5] END ......C=1, gamma=0.001, kernel=rbf;, score=0.679 total time=   1.0s\n",
            "[CV 3/5] END ......C=1, gamma=0.001, kernel=rbf;, score=0.662 total time=   1.0s\n",
            "[CV 4/5] END ......C=1, gamma=0.001, kernel=rbf;, score=0.687 total time=   1.1s\n",
            "[CV 5/5] END ......C=1, gamma=0.001, kernel=rbf;, score=0.734 total time=   1.1s\n",
            "[CV 1/5] END .....C=1, gamma=0.001, kernel=poly;, score=0.769 total time=   0.8s\n",
            "[CV 2/5] END .....C=1, gamma=0.001, kernel=poly;, score=0.791 total time=   0.8s\n",
            "[CV 3/5] END .....C=1, gamma=0.001, kernel=poly;, score=0.752 total time=   0.8s\n",
            "[CV 4/5] END .....C=1, gamma=0.001, kernel=poly;, score=0.785 total time=   0.8s\n",
            "[CV 5/5] END .....C=1, gamma=0.001, kernel=poly;, score=0.798 total time=   0.8s\n",
            "[CV 1/5] END ..C=1, gamma=0.001, kernel=sigmoid;, score=0.620 total time=   0.5s\n",
            "[CV 2/5] END ..C=1, gamma=0.001, kernel=sigmoid;, score=0.615 total time=   0.6s\n",
            "[CV 3/5] END ..C=1, gamma=0.001, kernel=sigmoid;, score=0.624 total time=   0.6s\n",
            "[CV 4/5] END ..C=1, gamma=0.001, kernel=sigmoid;, score=0.579 total time=   0.5s\n",
            "[CV 5/5] END ..C=1, gamma=0.001, kernel=sigmoid;, score=0.579 total time=   0.6s\n",
            "[CV 1/5] END ........C=1, gamma=0.1, kernel=rbf;, score=0.577 total time=   1.1s\n",
            "[CV 2/5] END ........C=1, gamma=0.1, kernel=rbf;, score=0.590 total time=   1.1s\n",
            "[CV 3/5] END ........C=1, gamma=0.1, kernel=rbf;, score=0.585 total time=   1.1s\n",
            "[CV 4/5] END ........C=1, gamma=0.1, kernel=rbf;, score=0.601 total time=   1.1s\n",
            "[CV 5/5] END ........C=1, gamma=0.1, kernel=rbf;, score=0.588 total time=   1.1s\n",
            "[CV 1/5] END .......C=1, gamma=0.1, kernel=poly;, score=0.769 total time=   0.8s\n",
            "[CV 2/5] END .......C=1, gamma=0.1, kernel=poly;, score=0.791 total time=   0.8s\n",
            "[CV 3/5] END .......C=1, gamma=0.1, kernel=poly;, score=0.752 total time=   0.8s\n",
            "[CV 4/5] END .......C=1, gamma=0.1, kernel=poly;, score=0.785 total time=   0.8s\n",
            "[CV 5/5] END .......C=1, gamma=0.1, kernel=poly;, score=0.798 total time=   0.8s\n",
            "[CV 1/5] END ....C=1, gamma=0.1, kernel=sigmoid;, score=0.607 total time=   0.4s\n",
            "[CV 2/5] END ....C=1, gamma=0.1, kernel=sigmoid;, score=0.620 total time=   0.4s\n",
            "[CV 3/5] END ....C=1, gamma=0.1, kernel=sigmoid;, score=0.620 total time=   0.4s\n",
            "[CV 4/5] END ....C=1, gamma=0.1, kernel=sigmoid;, score=0.536 total time=   0.4s\n",
            "[CV 5/5] END ....C=1, gamma=0.1, kernel=sigmoid;, score=0.554 total time=   0.4s\n",
            "[CV 1/5] END ..........C=1, gamma=1, kernel=rbf;, score=0.556 total time=   1.1s\n",
            "[CV 2/5] END ..........C=1, gamma=1, kernel=rbf;, score=0.585 total time=   1.1s\n",
            "[CV 3/5] END ..........C=1, gamma=1, kernel=rbf;, score=0.560 total time=   1.1s\n",
            "[CV 4/5] END ..........C=1, gamma=1, kernel=rbf;, score=0.567 total time=   1.1s\n",
            "[CV 5/5] END ..........C=1, gamma=1, kernel=rbf;, score=0.562 total time=   1.1s\n",
            "[CV 1/5] END .........C=1, gamma=1, kernel=poly;, score=0.769 total time=   0.8s\n",
            "[CV 2/5] END .........C=1, gamma=1, kernel=poly;, score=0.791 total time=   0.8s\n",
            "[CV 3/5] END .........C=1, gamma=1, kernel=poly;, score=0.752 total time=   0.8s\n",
            "[CV 4/5] END .........C=1, gamma=1, kernel=poly;, score=0.785 total time=   0.8s\n",
            "[CV 5/5] END .........C=1, gamma=1, kernel=poly;, score=0.798 total time=   0.8s\n",
            "[CV 1/5] END ......C=1, gamma=1, kernel=sigmoid;, score=0.547 total time=   0.4s\n",
            "[CV 2/5] END ......C=1, gamma=1, kernel=sigmoid;, score=0.556 total time=   0.4s\n",
            "[CV 3/5] END ......C=1, gamma=1, kernel=sigmoid;, score=0.526 total time=   0.4s\n",
            "[CV 4/5] END ......C=1, gamma=1, kernel=sigmoid;, score=0.545 total time=   0.4s\n",
            "[CV 5/5] END ......C=1, gamma=1, kernel=sigmoid;, score=0.558 total time=   0.4s\n",
            "[CV 1/5] END ........C=1, gamma=1.5, kernel=rbf;, score=0.538 total time=   1.1s\n",
            "[CV 2/5] END ........C=1, gamma=1.5, kernel=rbf;, score=0.551 total time=   1.1s\n",
            "[CV 3/5] END ........C=1, gamma=1.5, kernel=rbf;, score=0.543 total time=   1.1s\n",
            "[CV 4/5] END ........C=1, gamma=1.5, kernel=rbf;, score=0.549 total time=   1.1s\n",
            "[CV 5/5] END ........C=1, gamma=1.5, kernel=rbf;, score=0.554 total time=   1.1s\n",
            "[CV 1/5] END .......C=1, gamma=1.5, kernel=poly;, score=0.769 total time=   0.8s\n",
            "[CV 2/5] END .......C=1, gamma=1.5, kernel=poly;, score=0.791 total time=   0.8s\n",
            "[CV 3/5] END .......C=1, gamma=1.5, kernel=poly;, score=0.752 total time=   0.8s\n",
            "[CV 4/5] END .......C=1, gamma=1.5, kernel=poly;, score=0.785 total time=   0.8s\n",
            "[CV 5/5] END .......C=1, gamma=1.5, kernel=poly;, score=0.798 total time=   0.8s\n",
            "[CV 1/5] END ....C=1, gamma=1.5, kernel=sigmoid;, score=0.547 total time=   0.4s\n",
            "[CV 2/5] END ....C=1, gamma=1.5, kernel=sigmoid;, score=0.560 total time=   0.4s\n",
            "[CV 3/5] END ....C=1, gamma=1.5, kernel=sigmoid;, score=0.517 total time=   0.4s\n",
            "[CV 4/5] END ....C=1, gamma=1.5, kernel=sigmoid;, score=0.609 total time=   0.4s\n",
            "[CV 5/5] END ....C=1, gamma=1.5, kernel=sigmoid;, score=0.558 total time=   0.4s\n",
            "[CV 1/5] END ..........C=1, gamma=2, kernel=rbf;, score=0.534 total time=   1.1s\n",
            "[CV 2/5] END ..........C=1, gamma=2, kernel=rbf;, score=0.547 total time=   1.1s\n",
            "[CV 3/5] END ..........C=1, gamma=2, kernel=rbf;, score=0.543 total time=   1.1s\n",
            "[CV 4/5] END ..........C=1, gamma=2, kernel=rbf;, score=0.532 total time=   1.1s\n",
            "[CV 5/5] END ..........C=1, gamma=2, kernel=rbf;, score=0.545 total time=   1.1s\n",
            "[CV 1/5] END .........C=1, gamma=2, kernel=poly;, score=0.769 total time=   0.8s\n",
            "[CV 2/5] END .........C=1, gamma=2, kernel=poly;, score=0.791 total time=   0.8s\n",
            "[CV 3/5] END .........C=1, gamma=2, kernel=poly;, score=0.752 total time=   0.8s\n",
            "[CV 4/5] END .........C=1, gamma=2, kernel=poly;, score=0.785 total time=   0.8s\n",
            "[CV 5/5] END .........C=1, gamma=2, kernel=poly;, score=0.798 total time=   0.8s\n",
            "[CV 1/5] END ......C=1, gamma=2, kernel=sigmoid;, score=0.573 total time=   0.4s\n",
            "[CV 2/5] END ......C=1, gamma=2, kernel=sigmoid;, score=0.551 total time=   0.4s\n",
            "[CV 3/5] END ......C=1, gamma=2, kernel=sigmoid;, score=0.517 total time=   0.4s\n",
            "[CV 4/5] END ......C=1, gamma=2, kernel=sigmoid;, score=0.597 total time=   0.4s\n",
            "[CV 5/5] END ......C=1, gamma=2, kernel=sigmoid;, score=0.558 total time=   0.4s\n",
            "[CV 1/5] END .....C=10, gamma=1e-05, kernel=rbf;, score=0.774 total time=   0.7s\n",
            "[CV 2/5] END .....C=10, gamma=1e-05, kernel=rbf;, score=0.812 total time=   0.7s\n",
            "[CV 3/5] END .....C=10, gamma=1e-05, kernel=rbf;, score=0.778 total time=   0.7s\n",
            "[CV 4/5] END .....C=10, gamma=1e-05, kernel=rbf;, score=0.751 total time=   0.7s\n",
            "[CV 5/5] END .....C=10, gamma=1e-05, kernel=rbf;, score=0.837 total time=   0.8s\n",
            "[CV 1/5] END ....C=10, gamma=1e-05, kernel=poly;, score=0.658 total time=   0.7s\n",
            "[CV 2/5] END ....C=10, gamma=1e-05, kernel=poly;, score=0.701 total time=   0.8s\n",
            "[CV 3/5] END ....C=10, gamma=1e-05, kernel=poly;, score=0.688 total time=   0.7s\n",
            "[CV 4/5] END ....C=10, gamma=1e-05, kernel=poly;, score=0.639 total time=   0.8s\n",
            "[CV 5/5] END ....C=10, gamma=1e-05, kernel=poly;, score=0.678 total time=   0.7s\n",
            "[CV 1/5] END .C=10, gamma=1e-05, kernel=sigmoid;, score=0.774 total time=   0.7s\n",
            "[CV 2/5] END .C=10, gamma=1e-05, kernel=sigmoid;, score=0.803 total time=   0.7s\n",
            "[CV 3/5] END .C=10, gamma=1e-05, kernel=sigmoid;, score=0.744 total time=   0.7s\n",
            "[CV 4/5] END .C=10, gamma=1e-05, kernel=sigmoid;, score=0.742 total time=   0.7s\n",
            "[CV 5/5] END .C=10, gamma=1e-05, kernel=sigmoid;, score=0.803 total time=   0.7s\n",
            "[CV 1/5] END ....C=10, gamma=0.0001, kernel=rbf;, score=0.795 total time=   1.0s\n",
            "[CV 2/5] END ....C=10, gamma=0.0001, kernel=rbf;, score=0.850 total time=   1.0s\n",
            "[CV 3/5] END ....C=10, gamma=0.0001, kernel=rbf;, score=0.799 total time=   1.0s\n",
            "[CV 4/5] END ....C=10, gamma=0.0001, kernel=rbf;, score=0.798 total time=   1.0s\n",
            "[CV 5/5] END ....C=10, gamma=0.0001, kernel=rbf;, score=0.850 total time=   1.0s\n",
            "[CV 1/5] END ...C=10, gamma=0.0001, kernel=poly;, score=0.748 total time=   0.8s\n",
            "[CV 2/5] END ...C=10, gamma=0.0001, kernel=poly;, score=0.808 total time=   0.8s\n",
            "[CV 3/5] END ...C=10, gamma=0.0001, kernel=poly;, score=0.761 total time=   0.8s\n",
            "[CV 4/5] END ...C=10, gamma=0.0001, kernel=poly;, score=0.777 total time=   0.8s\n",
            "[CV 5/5] END ...C=10, gamma=0.0001, kernel=poly;, score=0.807 total time=   0.8s\n",
            "[CV 1/5] END C=10, gamma=0.0001, kernel=sigmoid;, score=0.620 total time=   0.4s\n",
            "[CV 2/5] END C=10, gamma=0.0001, kernel=sigmoid;, score=0.658 total time=   0.4s\n",
            "[CV 3/5] END C=10, gamma=0.0001, kernel=sigmoid;, score=0.645 total time=   0.4s\n",
            "[CV 4/5] END C=10, gamma=0.0001, kernel=sigmoid;, score=0.635 total time=   0.4s\n",
            "[CV 5/5] END C=10, gamma=0.0001, kernel=sigmoid;, score=0.597 total time=   0.4s\n",
            "[CV 1/5] END .....C=10, gamma=0.001, kernel=rbf;, score=0.671 total time=   1.1s\n",
            "[CV 2/5] END .....C=10, gamma=0.001, kernel=rbf;, score=0.684 total time=   1.1s\n",
            "[CV 3/5] END .....C=10, gamma=0.001, kernel=rbf;, score=0.671 total time=   1.1s\n",
            "[CV 4/5] END .....C=10, gamma=0.001, kernel=rbf;, score=0.704 total time=   1.1s\n",
            "[CV 5/5] END .....C=10, gamma=0.001, kernel=rbf;, score=0.738 total time=   1.0s\n",
            "[CV 1/5] END ....C=10, gamma=0.001, kernel=poly;, score=0.769 total time=   0.8s\n",
            "[CV 2/5] END ....C=10, gamma=0.001, kernel=poly;, score=0.791 total time=   0.8s\n",
            "[CV 3/5] END ....C=10, gamma=0.001, kernel=poly;, score=0.752 total time=   0.8s\n",
            "[CV 4/5] END ....C=10, gamma=0.001, kernel=poly;, score=0.785 total time=   0.8s\n",
            "[CV 5/5] END ....C=10, gamma=0.001, kernel=poly;, score=0.798 total time=   0.9s\n",
            "[CV 1/5] END .C=10, gamma=0.001, kernel=sigmoid;, score=0.611 total time=   0.5s\n",
            "[CV 2/5] END .C=10, gamma=0.001, kernel=sigmoid;, score=0.611 total time=   0.6s\n",
            "[CV 3/5] END .C=10, gamma=0.001, kernel=sigmoid;, score=0.620 total time=   0.5s\n",
            "[CV 4/5] END .C=10, gamma=0.001, kernel=sigmoid;, score=0.588 total time=   0.6s\n",
            "[CV 5/5] END .C=10, gamma=0.001, kernel=sigmoid;, score=0.575 total time=   0.6s\n",
            "[CV 1/5] END .......C=10, gamma=0.1, kernel=rbf;, score=0.577 total time=   1.1s\n",
            "[CV 2/5] END .......C=10, gamma=0.1, kernel=rbf;, score=0.590 total time=   1.1s\n",
            "[CV 3/5] END .......C=10, gamma=0.1, kernel=rbf;, score=0.585 total time=   1.1s\n",
            "[CV 4/5] END .......C=10, gamma=0.1, kernel=rbf;, score=0.601 total time=   1.1s\n",
            "[CV 5/5] END .......C=10, gamma=0.1, kernel=rbf;, score=0.588 total time=   1.1s\n",
            "[CV 1/5] END ......C=10, gamma=0.1, kernel=poly;, score=0.769 total time=   0.8s\n",
            "[CV 2/5] END ......C=10, gamma=0.1, kernel=poly;, score=0.791 total time=   0.9s\n",
            "[CV 3/5] END ......C=10, gamma=0.1, kernel=poly;, score=0.752 total time=   0.8s\n",
            "[CV 4/5] END ......C=10, gamma=0.1, kernel=poly;, score=0.785 total time=   0.8s\n",
            "[CV 5/5] END ......C=10, gamma=0.1, kernel=poly;, score=0.798 total time=   0.8s\n",
            "[CV 1/5] END ...C=10, gamma=0.1, kernel=sigmoid;, score=0.611 total time=   0.4s\n",
            "[CV 2/5] END ...C=10, gamma=0.1, kernel=sigmoid;, score=0.620 total time=   0.4s\n",
            "[CV 3/5] END ...C=10, gamma=0.1, kernel=sigmoid;, score=0.611 total time=   0.4s\n",
            "[CV 4/5] END ...C=10, gamma=0.1, kernel=sigmoid;, score=0.545 total time=   0.4s\n",
            "[CV 5/5] END ...C=10, gamma=0.1, kernel=sigmoid;, score=0.558 total time=   0.4s\n",
            "[CV 1/5] END .........C=10, gamma=1, kernel=rbf;, score=0.556 total time=   1.1s\n",
            "[CV 2/5] END .........C=10, gamma=1, kernel=rbf;, score=0.590 total time=   1.1s\n",
            "[CV 3/5] END .........C=10, gamma=1, kernel=rbf;, score=0.560 total time=   1.1s\n",
            "[CV 4/5] END .........C=10, gamma=1, kernel=rbf;, score=0.571 total time=   1.1s\n",
            "[CV 5/5] END .........C=10, gamma=1, kernel=rbf;, score=0.567 total time=   1.1s\n",
            "[CV 1/5] END ........C=10, gamma=1, kernel=poly;, score=0.769 total time=   0.8s\n",
            "[CV 2/5] END ........C=10, gamma=1, kernel=poly;, score=0.791 total time=   0.8s\n",
            "[CV 3/5] END ........C=10, gamma=1, kernel=poly;, score=0.752 total time=   0.8s\n",
            "[CV 4/5] END ........C=10, gamma=1, kernel=poly;, score=0.785 total time=   0.8s\n",
            "[CV 5/5] END ........C=10, gamma=1, kernel=poly;, score=0.798 total time=   0.8s\n",
            "[CV 1/5] END .....C=10, gamma=1, kernel=sigmoid;, score=0.547 total time=   0.4s\n",
            "[CV 2/5] END .....C=10, gamma=1, kernel=sigmoid;, score=0.568 total time=   0.4s\n",
            "[CV 3/5] END .....C=10, gamma=1, kernel=sigmoid;, score=0.517 total time=   0.4s\n",
            "[CV 4/5] END .....C=10, gamma=1, kernel=sigmoid;, score=0.545 total time=   0.4s\n",
            "[CV 5/5] END .....C=10, gamma=1, kernel=sigmoid;, score=0.567 total time=   0.4s\n",
            "[CV 1/5] END .......C=10, gamma=1.5, kernel=rbf;, score=0.551 total time=   1.1s\n",
            "[CV 2/5] END .......C=10, gamma=1.5, kernel=rbf;, score=0.560 total time=   1.1s\n",
            "[CV 3/5] END .......C=10, gamma=1.5, kernel=rbf;, score=0.547 total time=   1.1s\n",
            "[CV 4/5] END .......C=10, gamma=1.5, kernel=rbf;, score=0.558 total time=   1.1s\n",
            "[CV 5/5] END .......C=10, gamma=1.5, kernel=rbf;, score=0.554 total time=   1.1s\n",
            "[CV 1/5] END ......C=10, gamma=1.5, kernel=poly;, score=0.769 total time=   0.9s\n",
            "[CV 2/5] END ......C=10, gamma=1.5, kernel=poly;, score=0.791 total time=   0.8s\n",
            "[CV 3/5] END ......C=10, gamma=1.5, kernel=poly;, score=0.752 total time=   0.8s\n",
            "[CV 4/5] END ......C=10, gamma=1.5, kernel=poly;, score=0.785 total time=   0.8s\n",
            "[CV 5/5] END ......C=10, gamma=1.5, kernel=poly;, score=0.798 total time=   0.8s\n",
            "[CV 1/5] END ...C=10, gamma=1.5, kernel=sigmoid;, score=0.547 total time=   0.4s\n",
            "[CV 2/5] END ...C=10, gamma=1.5, kernel=sigmoid;, score=0.568 total time=   0.4s\n",
            "[CV 3/5] END ...C=10, gamma=1.5, kernel=sigmoid;, score=0.517 total time=   0.4s\n",
            "[CV 4/5] END ...C=10, gamma=1.5, kernel=sigmoid;, score=0.614 total time=   0.4s\n",
            "[CV 5/5] END ...C=10, gamma=1.5, kernel=sigmoid;, score=0.554 total time=   0.4s\n",
            "[CV 1/5] END .........C=10, gamma=2, kernel=rbf;, score=0.538 total time=   1.1s\n",
            "[CV 2/5] END .........C=10, gamma=2, kernel=rbf;, score=0.547 total time=   1.1s\n",
            "[CV 3/5] END .........C=10, gamma=2, kernel=rbf;, score=0.543 total time=   1.1s\n",
            "[CV 4/5] END .........C=10, gamma=2, kernel=rbf;, score=0.545 total time=   1.1s\n",
            "[CV 5/5] END .........C=10, gamma=2, kernel=rbf;, score=0.549 total time=   1.1s\n",
            "[CV 1/5] END ........C=10, gamma=2, kernel=poly;, score=0.769 total time=   0.8s\n",
            "[CV 2/5] END ........C=10, gamma=2, kernel=poly;, score=0.791 total time=   0.8s\n",
            "[CV 3/5] END ........C=10, gamma=2, kernel=poly;, score=0.752 total time=   0.8s\n",
            "[CV 4/5] END ........C=10, gamma=2, kernel=poly;, score=0.785 total time=   0.8s\n",
            "[CV 5/5] END ........C=10, gamma=2, kernel=poly;, score=0.798 total time=   0.8s\n",
            "[CV 1/5] END .....C=10, gamma=2, kernel=sigmoid;, score=0.564 total time=   0.4s\n",
            "[CV 2/5] END .....C=10, gamma=2, kernel=sigmoid;, score=0.568 total time=   0.4s\n",
            "[CV 3/5] END .....C=10, gamma=2, kernel=sigmoid;, score=0.526 total time=   0.4s\n",
            "[CV 4/5] END .....C=10, gamma=2, kernel=sigmoid;, score=0.609 total time=   0.4s\n",
            "[CV 5/5] END .....C=10, gamma=2, kernel=sigmoid;, score=0.554 total time=   0.4s\n",
            "[CV 1/5] END ....C=100, gamma=1e-05, kernel=rbf;, score=0.744 total time=   0.9s\n",
            "[CV 2/5] END ....C=100, gamma=1e-05, kernel=rbf;, score=0.765 total time=   0.9s\n",
            "[CV 3/5] END ....C=100, gamma=1e-05, kernel=rbf;, score=0.761 total time=   0.9s\n",
            "[CV 4/5] END ....C=100, gamma=1e-05, kernel=rbf;, score=0.751 total time=   0.9s\n",
            "[CV 5/5] END ....C=100, gamma=1e-05, kernel=rbf;, score=0.807 total time=   0.9s\n",
            "[CV 1/5] END ...C=100, gamma=1e-05, kernel=poly;, score=0.692 total time=   0.7s\n",
            "[CV 2/5] END ...C=100, gamma=1e-05, kernel=poly;, score=0.744 total time=   0.7s\n",
            "[CV 3/5] END ...C=100, gamma=1e-05, kernel=poly;, score=0.718 total time=   0.7s\n",
            "[CV 4/5] END ...C=100, gamma=1e-05, kernel=poly;, score=0.657 total time=   0.7s\n",
            "[CV 5/5] END ...C=100, gamma=1e-05, kernel=poly;, score=0.734 total time=   0.7s\n",
            "[CV 1/5] END C=100, gamma=1e-05, kernel=sigmoid;, score=0.731 total time=   0.8s\n",
            "[CV 2/5] END C=100, gamma=1e-05, kernel=sigmoid;, score=0.752 total time=   0.9s\n",
            "[CV 3/5] END C=100, gamma=1e-05, kernel=sigmoid;, score=0.688 total time=   0.8s\n",
            "[CV 4/5] END C=100, gamma=1e-05, kernel=sigmoid;, score=0.712 total time=   0.8s\n",
            "[CV 5/5] END C=100, gamma=1e-05, kernel=sigmoid;, score=0.742 total time=   0.8s\n",
            "[CV 1/5] END ...C=100, gamma=0.0001, kernel=rbf;, score=0.795 total time=   1.0s\n",
            "[CV 2/5] END ...C=100, gamma=0.0001, kernel=rbf;, score=0.850 total time=   1.0s\n",
            "[CV 3/5] END ...C=100, gamma=0.0001, kernel=rbf;, score=0.799 total time=   1.0s\n",
            "[CV 4/5] END ...C=100, gamma=0.0001, kernel=rbf;, score=0.798 total time=   1.0s\n",
            "[CV 5/5] END ...C=100, gamma=0.0001, kernel=rbf;, score=0.854 total time=   1.0s\n",
            "[CV 1/5] END ..C=100, gamma=0.0001, kernel=poly;, score=0.761 total time=   0.8s\n",
            "[CV 2/5] END ..C=100, gamma=0.0001, kernel=poly;, score=0.791 total time=   0.8s\n",
            "[CV 3/5] END ..C=100, gamma=0.0001, kernel=poly;, score=0.752 total time=   0.8s\n",
            "[CV 4/5] END ..C=100, gamma=0.0001, kernel=poly;, score=0.773 total time=   0.8s\n",
            "[CV 5/5] END ..C=100, gamma=0.0001, kernel=poly;, score=0.811 total time=   0.8s\n",
            "[CV 1/5] END C=100, gamma=0.0001, kernel=sigmoid;, score=0.624 total time=   0.4s\n",
            "[CV 2/5] END C=100, gamma=0.0001, kernel=sigmoid;, score=0.645 total time=   0.4s\n",
            "[CV 3/5] END C=100, gamma=0.0001, kernel=sigmoid;, score=0.637 total time=   0.4s\n",
            "[CV 4/5] END C=100, gamma=0.0001, kernel=sigmoid;, score=0.631 total time=   0.4s\n",
            "[CV 5/5] END C=100, gamma=0.0001, kernel=sigmoid;, score=0.562 total time=   0.5s\n",
            "[CV 1/5] END ....C=100, gamma=0.001, kernel=rbf;, score=0.671 total time=   1.1s\n",
            "[CV 2/5] END ....C=100, gamma=0.001, kernel=rbf;, score=0.684 total time=   1.1s\n",
            "[CV 3/5] END ....C=100, gamma=0.001, kernel=rbf;, score=0.671 total time=   1.1s\n",
            "[CV 4/5] END ....C=100, gamma=0.001, kernel=rbf;, score=0.704 total time=   1.1s\n",
            "[CV 5/5] END ....C=100, gamma=0.001, kernel=rbf;, score=0.738 total time=   1.1s\n",
            "[CV 1/5] END ...C=100, gamma=0.001, kernel=poly;, score=0.769 total time=   0.8s\n",
            "[CV 2/5] END ...C=100, gamma=0.001, kernel=poly;, score=0.791 total time=   0.8s\n",
            "[CV 3/5] END ...C=100, gamma=0.001, kernel=poly;, score=0.752 total time=   0.8s\n",
            "[CV 4/5] END ...C=100, gamma=0.001, kernel=poly;, score=0.785 total time=   0.8s\n",
            "[CV 5/5] END ...C=100, gamma=0.001, kernel=poly;, score=0.798 total time=   0.8s\n",
            "[CV 1/5] END C=100, gamma=0.001, kernel=sigmoid;, score=0.607 total time=   0.5s\n",
            "[CV 2/5] END C=100, gamma=0.001, kernel=sigmoid;, score=0.603 total time=   0.6s\n",
            "[CV 3/5] END C=100, gamma=0.001, kernel=sigmoid;, score=0.624 total time=   0.6s\n",
            "[CV 4/5] END C=100, gamma=0.001, kernel=sigmoid;, score=0.588 total time=   0.5s\n",
            "[CV 5/5] END C=100, gamma=0.001, kernel=sigmoid;, score=0.579 total time=   0.6s\n",
            "[CV 1/5] END ......C=100, gamma=0.1, kernel=rbf;, score=0.577 total time=   1.1s\n",
            "[CV 2/5] END ......C=100, gamma=0.1, kernel=rbf;, score=0.590 total time=   1.1s\n",
            "[CV 3/5] END ......C=100, gamma=0.1, kernel=rbf;, score=0.585 total time=   1.1s\n",
            "[CV 4/5] END ......C=100, gamma=0.1, kernel=rbf;, score=0.601 total time=   1.1s\n",
            "[CV 5/5] END ......C=100, gamma=0.1, kernel=rbf;, score=0.588 total time=   1.1s\n",
            "[CV 1/5] END .....C=100, gamma=0.1, kernel=poly;, score=0.769 total time=   0.8s\n",
            "[CV 2/5] END .....C=100, gamma=0.1, kernel=poly;, score=0.791 total time=   0.8s\n",
            "[CV 3/5] END .....C=100, gamma=0.1, kernel=poly;, score=0.752 total time=   0.8s\n",
            "[CV 4/5] END .....C=100, gamma=0.1, kernel=poly;, score=0.785 total time=   0.8s\n",
            "[CV 5/5] END .....C=100, gamma=0.1, kernel=poly;, score=0.798 total time=   0.8s\n",
            "[CV 1/5] END ..C=100, gamma=0.1, kernel=sigmoid;, score=0.594 total time=   0.4s\n",
            "[CV 2/5] END ..C=100, gamma=0.1, kernel=sigmoid;, score=0.615 total time=   0.4s\n",
            "[CV 3/5] END ..C=100, gamma=0.1, kernel=sigmoid;, score=0.615 total time=   0.4s\n",
            "[CV 4/5] END ..C=100, gamma=0.1, kernel=sigmoid;, score=0.545 total time=   0.4s\n",
            "[CV 5/5] END ..C=100, gamma=0.1, kernel=sigmoid;, score=0.554 total time=   0.4s\n",
            "[CV 1/5] END ........C=100, gamma=1, kernel=rbf;, score=0.556 total time=   1.1s\n",
            "[CV 2/5] END ........C=100, gamma=1, kernel=rbf;, score=0.590 total time=   1.1s\n",
            "[CV 3/5] END ........C=100, gamma=1, kernel=rbf;, score=0.560 total time=   1.1s\n",
            "[CV 4/5] END ........C=100, gamma=1, kernel=rbf;, score=0.571 total time=   1.1s\n",
            "[CV 5/5] END ........C=100, gamma=1, kernel=rbf;, score=0.567 total time=   1.1s\n",
            "[CV 1/5] END .......C=100, gamma=1, kernel=poly;, score=0.769 total time=   0.8s\n",
            "[CV 2/5] END .......C=100, gamma=1, kernel=poly;, score=0.791 total time=   0.8s\n",
            "[CV 3/5] END .......C=100, gamma=1, kernel=poly;, score=0.752 total time=   0.8s\n",
            "[CV 4/5] END .......C=100, gamma=1, kernel=poly;, score=0.785 total time=   0.8s\n",
            "[CV 5/5] END .......C=100, gamma=1, kernel=poly;, score=0.798 total time=   0.8s\n",
            "[CV 1/5] END ....C=100, gamma=1, kernel=sigmoid;, score=0.547 total time=   0.4s\n",
            "[CV 2/5] END ....C=100, gamma=1, kernel=sigmoid;, score=0.568 total time=   0.4s\n",
            "[CV 3/5] END ....C=100, gamma=1, kernel=sigmoid;, score=0.517 total time=   0.4s\n",
            "[CV 4/5] END ....C=100, gamma=1, kernel=sigmoid;, score=0.545 total time=   0.4s\n",
            "[CV 5/5] END ....C=100, gamma=1, kernel=sigmoid;, score=0.558 total time=   0.4s\n",
            "[CV 1/5] END ......C=100, gamma=1.5, kernel=rbf;, score=0.551 total time=   1.1s\n",
            "[CV 2/5] END ......C=100, gamma=1.5, kernel=rbf;, score=0.560 total time=   1.1s\n",
            "[CV 3/5] END ......C=100, gamma=1.5, kernel=rbf;, score=0.547 total time=   1.1s\n",
            "[CV 4/5] END ......C=100, gamma=1.5, kernel=rbf;, score=0.558 total time=   1.1s\n",
            "[CV 5/5] END ......C=100, gamma=1.5, kernel=rbf;, score=0.554 total time=   1.1s\n",
            "[CV 1/5] END .....C=100, gamma=1.5, kernel=poly;, score=0.769 total time=   0.9s\n",
            "[CV 2/5] END .....C=100, gamma=1.5, kernel=poly;, score=0.791 total time=   0.8s\n",
            "[CV 3/5] END .....C=100, gamma=1.5, kernel=poly;, score=0.752 total time=   0.8s\n",
            "[CV 4/5] END .....C=100, gamma=1.5, kernel=poly;, score=0.785 total time=   0.8s\n",
            "[CV 5/5] END .....C=100, gamma=1.5, kernel=poly;, score=0.798 total time=   0.8s\n",
            "[CV 1/5] END ..C=100, gamma=1.5, kernel=sigmoid;, score=0.564 total time=   0.4s\n",
            "[CV 2/5] END ..C=100, gamma=1.5, kernel=sigmoid;, score=0.568 total time=   0.4s\n",
            "[CV 3/5] END ..C=100, gamma=1.5, kernel=sigmoid;, score=0.517 total time=   0.4s\n",
            "[CV 4/5] END ..C=100, gamma=1.5, kernel=sigmoid;, score=0.605 total time=   0.4s\n",
            "[CV 5/5] END ..C=100, gamma=1.5, kernel=sigmoid;, score=0.549 total time=   0.4s\n",
            "[CV 1/5] END ........C=100, gamma=2, kernel=rbf;, score=0.538 total time=   1.1s\n",
            "[CV 2/5] END ........C=100, gamma=2, kernel=rbf;, score=0.547 total time=   1.1s\n",
            "[CV 3/5] END ........C=100, gamma=2, kernel=rbf;, score=0.543 total time=   1.1s\n",
            "[CV 4/5] END ........C=100, gamma=2, kernel=rbf;, score=0.545 total time=   1.1s\n",
            "[CV 5/5] END ........C=100, gamma=2, kernel=rbf;, score=0.549 total time=   1.1s\n",
            "[CV 1/5] END .......C=100, gamma=2, kernel=poly;, score=0.769 total time=   0.8s\n",
            "[CV 2/5] END .......C=100, gamma=2, kernel=poly;, score=0.791 total time=   0.8s\n",
            "[CV 3/5] END .......C=100, gamma=2, kernel=poly;, score=0.752 total time=   0.8s\n",
            "[CV 4/5] END .......C=100, gamma=2, kernel=poly;, score=0.785 total time=   0.8s\n",
            "[CV 5/5] END .......C=100, gamma=2, kernel=poly;, score=0.798 total time=   0.9s\n",
            "[CV 1/5] END ....C=100, gamma=2, kernel=sigmoid;, score=0.564 total time=   0.4s\n",
            "[CV 2/5] END ....C=100, gamma=2, kernel=sigmoid;, score=0.568 total time=   0.4s\n",
            "[CV 3/5] END ....C=100, gamma=2, kernel=sigmoid;, score=0.521 total time=   0.4s\n",
            "[CV 4/5] END ....C=100, gamma=2, kernel=sigmoid;, score=0.601 total time=   0.4s\n",
            "[CV 5/5] END ....C=100, gamma=2, kernel=sigmoid;, score=0.549 total time=   0.4s\n",
            "[CV 1/5] END ...C=1000, gamma=1e-05, kernel=rbf;, score=0.739 total time=   0.9s\n",
            "[CV 2/5] END ...C=1000, gamma=1e-05, kernel=rbf;, score=0.761 total time=   1.0s\n",
            "[CV 3/5] END ...C=1000, gamma=1e-05, kernel=rbf;, score=0.761 total time=   0.9s\n",
            "[CV 4/5] END ...C=1000, gamma=1e-05, kernel=rbf;, score=0.742 total time=   0.9s\n",
            "[CV 5/5] END ...C=1000, gamma=1e-05, kernel=rbf;, score=0.833 total time=   1.0s\n",
            "[CV 1/5] END ..C=1000, gamma=1e-05, kernel=poly;, score=0.731 total time=   0.7s\n",
            "[CV 2/5] END ..C=1000, gamma=1e-05, kernel=poly;, score=0.803 total time=   0.7s\n",
            "[CV 3/5] END ..C=1000, gamma=1e-05, kernel=poly;, score=0.756 total time=   0.7s\n",
            "[CV 4/5] END ..C=1000, gamma=1e-05, kernel=poly;, score=0.738 total time=   0.7s\n",
            "[CV 5/5] END ..C=1000, gamma=1e-05, kernel=poly;, score=0.807 total time=   0.7s\n",
            "[CV 1/5] END C=1000, gamma=1e-05, kernel=sigmoid;, score=0.654 total time=   1.0s\n",
            "[CV 2/5] END C=1000, gamma=1e-05, kernel=sigmoid;, score=0.726 total time=   1.2s\n",
            "[CV 3/5] END C=1000, gamma=1e-05, kernel=sigmoid;, score=0.658 total time=   1.1s\n",
            "[CV 4/5] END C=1000, gamma=1e-05, kernel=sigmoid;, score=0.682 total time=   0.9s\n",
            "[CV 5/5] END C=1000, gamma=1e-05, kernel=sigmoid;, score=0.712 total time=   1.2s\n",
            "[CV 1/5] END ..C=1000, gamma=0.0001, kernel=rbf;, score=0.795 total time=   0.9s\n",
            "[CV 2/5] END ..C=1000, gamma=0.0001, kernel=rbf;, score=0.850 total time=   1.0s\n",
            "[CV 3/5] END ..C=1000, gamma=0.0001, kernel=rbf;, score=0.799 total time=   1.0s\n",
            "[CV 4/5] END ..C=1000, gamma=0.0001, kernel=rbf;, score=0.798 total time=   0.9s\n",
            "[CV 5/5] END ..C=1000, gamma=0.0001, kernel=rbf;, score=0.854 total time=   1.0s\n",
            "[CV 1/5] END .C=1000, gamma=0.0001, kernel=poly;, score=0.769 total time=   0.8s\n",
            "[CV 2/5] END .C=1000, gamma=0.0001, kernel=poly;, score=0.791 total time=   0.8s\n",
            "[CV 3/5] END .C=1000, gamma=0.0001, kernel=poly;, score=0.752 total time=   0.8s\n",
            "[CV 4/5] END .C=1000, gamma=0.0001, kernel=poly;, score=0.785 total time=   0.8s\n",
            "[CV 5/5] END .C=1000, gamma=0.0001, kernel=poly;, score=0.798 total time=   0.8s\n",
            "[CV 1/5] END C=1000, gamma=0.0001, kernel=sigmoid;, score=0.624 total time=   0.4s\n",
            "[CV 2/5] END C=1000, gamma=0.0001, kernel=sigmoid;, score=0.641 total time=   0.4s\n",
            "[CV 3/5] END C=1000, gamma=0.0001, kernel=sigmoid;, score=0.632 total time=   0.4s\n",
            "[CV 4/5] END C=1000, gamma=0.0001, kernel=sigmoid;, score=0.627 total time=   0.4s\n",
            "[CV 5/5] END C=1000, gamma=0.0001, kernel=sigmoid;, score=0.562 total time=   0.5s\n",
            "[CV 1/5] END ...C=1000, gamma=0.001, kernel=rbf;, score=0.671 total time=   1.1s\n",
            "[CV 2/5] END ...C=1000, gamma=0.001, kernel=rbf;, score=0.684 total time=   1.1s\n",
            "[CV 3/5] END ...C=1000, gamma=0.001, kernel=rbf;, score=0.671 total time=   1.1s\n",
            "[CV 4/5] END ...C=1000, gamma=0.001, kernel=rbf;, score=0.704 total time=   1.0s\n",
            "[CV 5/5] END ...C=1000, gamma=0.001, kernel=rbf;, score=0.738 total time=   1.0s\n",
            "[CV 1/5] END ..C=1000, gamma=0.001, kernel=poly;, score=0.769 total time=   0.8s\n",
            "[CV 2/5] END ..C=1000, gamma=0.001, kernel=poly;, score=0.791 total time=   0.8s\n",
            "[CV 3/5] END ..C=1000, gamma=0.001, kernel=poly;, score=0.752 total time=   0.8s\n",
            "[CV 4/5] END ..C=1000, gamma=0.001, kernel=poly;, score=0.785 total time=   0.8s\n",
            "[CV 5/5] END ..C=1000, gamma=0.001, kernel=poly;, score=0.798 total time=   0.8s\n",
            "[CV 1/5] END C=1000, gamma=0.001, kernel=sigmoid;, score=0.607 total time=   0.5s\n",
            "[CV 2/5] END C=1000, gamma=0.001, kernel=sigmoid;, score=0.603 total time=   0.5s\n",
            "[CV 3/5] END C=1000, gamma=0.001, kernel=sigmoid;, score=0.624 total time=   0.6s\n",
            "[CV 4/5] END C=1000, gamma=0.001, kernel=sigmoid;, score=0.588 total time=   0.5s\n",
            "[CV 5/5] END C=1000, gamma=0.001, kernel=sigmoid;, score=0.579 total time=   0.6s\n",
            "[CV 1/5] END .....C=1000, gamma=0.1, kernel=rbf;, score=0.577 total time=   1.1s\n",
            "[CV 2/5] END .....C=1000, gamma=0.1, kernel=rbf;, score=0.590 total time=   1.1s\n",
            "[CV 3/5] END .....C=1000, gamma=0.1, kernel=rbf;, score=0.585 total time=   1.1s\n",
            "[CV 4/5] END .....C=1000, gamma=0.1, kernel=rbf;, score=0.601 total time=   1.1s\n",
            "[CV 5/5] END .....C=1000, gamma=0.1, kernel=rbf;, score=0.588 total time=   1.1s\n",
            "[CV 1/5] END ....C=1000, gamma=0.1, kernel=poly;, score=0.769 total time=   0.8s\n",
            "[CV 2/5] END ....C=1000, gamma=0.1, kernel=poly;, score=0.791 total time=   0.9s\n",
            "[CV 3/5] END ....C=1000, gamma=0.1, kernel=poly;, score=0.752 total time=   0.8s\n",
            "[CV 4/5] END ....C=1000, gamma=0.1, kernel=poly;, score=0.785 total time=   0.8s\n",
            "[CV 5/5] END ....C=1000, gamma=0.1, kernel=poly;, score=0.798 total time=   0.8s\n",
            "[CV 1/5] END .C=1000, gamma=0.1, kernel=sigmoid;, score=0.594 total time=   0.4s\n",
            "[CV 2/5] END .C=1000, gamma=0.1, kernel=sigmoid;, score=0.615 total time=   0.4s\n",
            "[CV 3/5] END .C=1000, gamma=0.1, kernel=sigmoid;, score=0.615 total time=   0.4s\n",
            "[CV 4/5] END .C=1000, gamma=0.1, kernel=sigmoid;, score=0.545 total time=   0.4s\n",
            "[CV 5/5] END .C=1000, gamma=0.1, kernel=sigmoid;, score=0.558 total time=   0.4s\n",
            "[CV 1/5] END .......C=1000, gamma=1, kernel=rbf;, score=0.556 total time=   1.1s\n",
            "[CV 2/5] END .......C=1000, gamma=1, kernel=rbf;, score=0.590 total time=   1.1s\n",
            "[CV 3/5] END .......C=1000, gamma=1, kernel=rbf;, score=0.560 total time=   1.1s\n",
            "[CV 4/5] END .......C=1000, gamma=1, kernel=rbf;, score=0.571 total time=   1.1s\n",
            "[CV 5/5] END .......C=1000, gamma=1, kernel=rbf;, score=0.567 total time=   1.1s\n",
            "[CV 1/5] END ......C=1000, gamma=1, kernel=poly;, score=0.769 total time=   0.8s\n",
            "[CV 2/5] END ......C=1000, gamma=1, kernel=poly;, score=0.791 total time=   0.8s\n",
            "[CV 3/5] END ......C=1000, gamma=1, kernel=poly;, score=0.752 total time=   0.8s\n",
            "[CV 4/5] END ......C=1000, gamma=1, kernel=poly;, score=0.785 total time=   0.8s\n",
            "[CV 5/5] END ......C=1000, gamma=1, kernel=poly;, score=0.798 total time=   0.8s\n",
            "[CV 1/5] END ...C=1000, gamma=1, kernel=sigmoid;, score=0.547 total time=   0.4s\n",
            "[CV 2/5] END ...C=1000, gamma=1, kernel=sigmoid;, score=0.564 total time=   0.4s\n",
            "[CV 3/5] END ...C=1000, gamma=1, kernel=sigmoid;, score=0.517 total time=   0.4s\n",
            "[CV 4/5] END ...C=1000, gamma=1, kernel=sigmoid;, score=0.545 total time=   0.4s\n",
            "[CV 5/5] END ...C=1000, gamma=1, kernel=sigmoid;, score=0.558 total time=   0.5s\n",
            "[CV 1/5] END .....C=1000, gamma=1.5, kernel=rbf;, score=0.551 total time=   1.1s\n",
            "[CV 2/5] END .....C=1000, gamma=1.5, kernel=rbf;, score=0.560 total time=   1.1s\n",
            "[CV 3/5] END .....C=1000, gamma=1.5, kernel=rbf;, score=0.547 total time=   1.1s\n",
            "[CV 4/5] END .....C=1000, gamma=1.5, kernel=rbf;, score=0.558 total time=   1.1s\n",
            "[CV 5/5] END .....C=1000, gamma=1.5, kernel=rbf;, score=0.554 total time=   1.1s\n",
            "[CV 1/5] END ....C=1000, gamma=1.5, kernel=poly;, score=0.769 total time=   0.8s\n",
            "[CV 2/5] END ....C=1000, gamma=1.5, kernel=poly;, score=0.791 total time=   0.8s\n",
            "[CV 3/5] END ....C=1000, gamma=1.5, kernel=poly;, score=0.752 total time=   0.8s\n",
            "[CV 4/5] END ....C=1000, gamma=1.5, kernel=poly;, score=0.785 total time=   0.8s\n",
            "[CV 5/5] END ....C=1000, gamma=1.5, kernel=poly;, score=0.798 total time=   0.8s\n",
            "[CV 1/5] END .C=1000, gamma=1.5, kernel=sigmoid;, score=0.564 total time=   0.4s\n",
            "[CV 2/5] END .C=1000, gamma=1.5, kernel=sigmoid;, score=0.568 total time=   0.4s\n",
            "[CV 3/5] END .C=1000, gamma=1.5, kernel=sigmoid;, score=0.517 total time=   0.4s\n",
            "[CV 4/5] END .C=1000, gamma=1.5, kernel=sigmoid;, score=0.601 total time=   0.4s\n",
            "[CV 5/5] END .C=1000, gamma=1.5, kernel=sigmoid;, score=0.558 total time=   0.4s\n",
            "[CV 1/5] END .......C=1000, gamma=2, kernel=rbf;, score=0.538 total time=   1.1s\n",
            "[CV 2/5] END .......C=1000, gamma=2, kernel=rbf;, score=0.547 total time=   1.1s\n",
            "[CV 3/5] END .......C=1000, gamma=2, kernel=rbf;, score=0.543 total time=   1.1s\n",
            "[CV 4/5] END .......C=1000, gamma=2, kernel=rbf;, score=0.545 total time=   1.1s\n",
            "[CV 5/5] END .......C=1000, gamma=2, kernel=rbf;, score=0.549 total time=   1.1s\n",
            "[CV 1/5] END ......C=1000, gamma=2, kernel=poly;, score=0.769 total time=   0.8s\n",
            "[CV 2/5] END ......C=1000, gamma=2, kernel=poly;, score=0.791 total time=   0.8s\n",
            "[CV 3/5] END ......C=1000, gamma=2, kernel=poly;, score=0.752 total time=   0.8s\n",
            "[CV 4/5] END ......C=1000, gamma=2, kernel=poly;, score=0.785 total time=   0.8s\n",
            "[CV 5/5] END ......C=1000, gamma=2, kernel=poly;, score=0.798 total time=   0.8s\n",
            "[CV 1/5] END ...C=1000, gamma=2, kernel=sigmoid;, score=0.564 total time=   0.4s\n",
            "[CV 2/5] END ...C=1000, gamma=2, kernel=sigmoid;, score=0.568 total time=   0.4s\n",
            "[CV 3/5] END ...C=1000, gamma=2, kernel=sigmoid;, score=0.521 total time=   0.4s\n",
            "[CV 4/5] END ...C=1000, gamma=2, kernel=sigmoid;, score=0.601 total time=   0.4s\n",
            "[CV 5/5] END ...C=1000, gamma=2, kernel=sigmoid;, score=0.558 total time=   0.4s\n"
          ]
        },
        {
          "output_type": "execute_result",
          "data": {
            "text/plain": [
              "GridSearchCV(estimator=SVC(probability=True),\n",
              "             param_grid={'C': [0.1, 1, 10, 100, 1000],\n",
              "                         'gamma': [1e-05, 0.0001, 0.001, 0.1, 1, 1.5, 2],\n",
              "                         'kernel': ['rbf', 'poly', 'sigmoid']},\n",
              "             verbose=4)"
            ],
            "text/html": [
              "<style>#sk-container-id-10 {color: black;background-color: white;}#sk-container-id-10 pre{padding: 0;}#sk-container-id-10 div.sk-toggleable {background-color: white;}#sk-container-id-10 label.sk-toggleable__label {cursor: pointer;display: block;width: 100%;margin-bottom: 0;padding: 0.3em;box-sizing: border-box;text-align: center;}#sk-container-id-10 label.sk-toggleable__label-arrow:before {content: \"▸\";float: left;margin-right: 0.25em;color: #696969;}#sk-container-id-10 label.sk-toggleable__label-arrow:hover:before {color: black;}#sk-container-id-10 div.sk-estimator:hover label.sk-toggleable__label-arrow:before {color: black;}#sk-container-id-10 div.sk-toggleable__content {max-height: 0;max-width: 0;overflow: hidden;text-align: left;background-color: #f0f8ff;}#sk-container-id-10 div.sk-toggleable__content pre {margin: 0.2em;color: black;border-radius: 0.25em;background-color: #f0f8ff;}#sk-container-id-10 input.sk-toggleable__control:checked~div.sk-toggleable__content {max-height: 200px;max-width: 100%;overflow: auto;}#sk-container-id-10 input.sk-toggleable__control:checked~label.sk-toggleable__label-arrow:before {content: \"▾\";}#sk-container-id-10 div.sk-estimator input.sk-toggleable__control:checked~label.sk-toggleable__label {background-color: #d4ebff;}#sk-container-id-10 div.sk-label input.sk-toggleable__control:checked~label.sk-toggleable__label {background-color: #d4ebff;}#sk-container-id-10 input.sk-hidden--visually {border: 0;clip: rect(1px 1px 1px 1px);clip: rect(1px, 1px, 1px, 1px);height: 1px;margin: -1px;overflow: hidden;padding: 0;position: absolute;width: 1px;}#sk-container-id-10 div.sk-estimator {font-family: monospace;background-color: #f0f8ff;border: 1px dotted black;border-radius: 0.25em;box-sizing: border-box;margin-bottom: 0.5em;}#sk-container-id-10 div.sk-estimator:hover {background-color: #d4ebff;}#sk-container-id-10 div.sk-parallel-item::after {content: \"\";width: 100%;border-bottom: 1px solid gray;flex-grow: 1;}#sk-container-id-10 div.sk-label:hover label.sk-toggleable__label {background-color: #d4ebff;}#sk-container-id-10 div.sk-serial::before {content: \"\";position: absolute;border-left: 1px solid gray;box-sizing: border-box;top: 0;bottom: 0;left: 50%;z-index: 0;}#sk-container-id-10 div.sk-serial {display: flex;flex-direction: column;align-items: center;background-color: white;padding-right: 0.2em;padding-left: 0.2em;position: relative;}#sk-container-id-10 div.sk-item {position: relative;z-index: 1;}#sk-container-id-10 div.sk-parallel {display: flex;align-items: stretch;justify-content: center;background-color: white;position: relative;}#sk-container-id-10 div.sk-item::before, #sk-container-id-10 div.sk-parallel-item::before {content: \"\";position: absolute;border-left: 1px solid gray;box-sizing: border-box;top: 0;bottom: 0;left: 50%;z-index: -1;}#sk-container-id-10 div.sk-parallel-item {display: flex;flex-direction: column;z-index: 1;position: relative;background-color: white;}#sk-container-id-10 div.sk-parallel-item:first-child::after {align-self: flex-end;width: 50%;}#sk-container-id-10 div.sk-parallel-item:last-child::after {align-self: flex-start;width: 50%;}#sk-container-id-10 div.sk-parallel-item:only-child::after {width: 0;}#sk-container-id-10 div.sk-dashed-wrapped {border: 1px dashed gray;margin: 0 0.4em 0.5em 0.4em;box-sizing: border-box;padding-bottom: 0.4em;background-color: white;}#sk-container-id-10 div.sk-label label {font-family: monospace;font-weight: bold;display: inline-block;line-height: 1.2em;}#sk-container-id-10 div.sk-label-container {text-align: center;}#sk-container-id-10 div.sk-container {/* jupyter's `normalize.less` sets `[hidden] { display: none; }` but bootstrap.min.css set `[hidden] { display: none !important; }` so we also need the `!important` here to be able to override the default hidden behavior on the sphinx rendered scikit-learn.org. See: https://github.com/scikit-learn/scikit-learn/issues/21755 */display: inline-block !important;position: relative;}#sk-container-id-10 div.sk-text-repr-fallback {display: none;}</style><div id=\"sk-container-id-10\" class=\"sk-top-container\"><div class=\"sk-text-repr-fallback\"><pre>GridSearchCV(estimator=SVC(probability=True),\n",
              "             param_grid={&#x27;C&#x27;: [0.1, 1, 10, 100, 1000],\n",
              "                         &#x27;gamma&#x27;: [1e-05, 0.0001, 0.001, 0.1, 1, 1.5, 2],\n",
              "                         &#x27;kernel&#x27;: [&#x27;rbf&#x27;, &#x27;poly&#x27;, &#x27;sigmoid&#x27;]},\n",
              "             verbose=4)</pre><b>In a Jupyter environment, please rerun this cell to show the HTML representation or trust the notebook. <br />On GitHub, the HTML representation is unable to render, please try loading this page with nbviewer.org.</b></div><div class=\"sk-container\" hidden><div class=\"sk-item sk-dashed-wrapped\"><div class=\"sk-label-container\"><div class=\"sk-label sk-toggleable\"><input class=\"sk-toggleable__control sk-hidden--visually\" id=\"sk-estimator-id-26\" type=\"checkbox\" ><label for=\"sk-estimator-id-26\" class=\"sk-toggleable__label sk-toggleable__label-arrow\">GridSearchCV</label><div class=\"sk-toggleable__content\"><pre>GridSearchCV(estimator=SVC(probability=True),\n",
              "             param_grid={&#x27;C&#x27;: [0.1, 1, 10, 100, 1000],\n",
              "                         &#x27;gamma&#x27;: [1e-05, 0.0001, 0.001, 0.1, 1, 1.5, 2],\n",
              "                         &#x27;kernel&#x27;: [&#x27;rbf&#x27;, &#x27;poly&#x27;, &#x27;sigmoid&#x27;]},\n",
              "             verbose=4)</pre></div></div></div><div class=\"sk-parallel\"><div class=\"sk-parallel-item\"><div class=\"sk-item\"><div class=\"sk-label-container\"><div class=\"sk-label sk-toggleable\"><input class=\"sk-toggleable__control sk-hidden--visually\" id=\"sk-estimator-id-27\" type=\"checkbox\" ><label for=\"sk-estimator-id-27\" class=\"sk-toggleable__label sk-toggleable__label-arrow\">estimator: SVC</label><div class=\"sk-toggleable__content\"><pre>SVC(probability=True)</pre></div></div></div><div class=\"sk-serial\"><div class=\"sk-item\"><div class=\"sk-estimator sk-toggleable\"><input class=\"sk-toggleable__control sk-hidden--visually\" id=\"sk-estimator-id-28\" type=\"checkbox\" ><label for=\"sk-estimator-id-28\" class=\"sk-toggleable__label sk-toggleable__label-arrow\">SVC</label><div class=\"sk-toggleable__content\"><pre>SVC(probability=True)</pre></div></div></div></div></div></div></div></div></div></div>"
            ]
          },
          "metadata": {},
          "execution_count": 45
        }
      ]
    },
    {
      "cell_type": "code",
      "source": [
        "model.best_params_, model.best_score_"
      ],
      "metadata": {
        "colab": {
          "base_uri": "https://localhost:8080/"
        },
        "id": "2s3OXsALnij-",
        "outputId": "b25c6df6-e107-4fb2-ba18-313846c1a285"
      },
      "execution_count": null,
      "outputs": [
        {
          "output_type": "execute_result",
          "data": {
            "text/plain": [
              "({'C': 100, 'gamma': 0.0001, 'kernel': 'rbf'}, 0.8193609918931808)"
            ]
          },
          "metadata": {},
          "execution_count": 78
        }
      ]
    },
    {
      "cell_type": "code",
      "source": [
        "import joblib\n",
        "filename = 'pca_svm_v2.sav'\n",
        "joblib.dump(model, filename)"
      ],
      "metadata": {
        "id": "1bn0yeVtsJJ3",
        "colab": {
          "base_uri": "https://localhost:8080/"
        },
        "outputId": "2eeb0ffc-0f4f-4936-d9c8-7411c7adee55"
      },
      "execution_count": null,
      "outputs": [
        {
          "output_type": "execute_result",
          "data": {
            "text/plain": [
              "['pca_svm_v2.sav']"
            ]
          },
          "metadata": {},
          "execution_count": 54
        }
      ]
    },
    {
      "cell_type": "code",
      "source": [
        "from sklearn.neighbors import KNeighborsClassifier\n",
        "from sklearn.tree import DecisionTreeClassifier\n",
        "from sklearn.ensemble import RandomForestClassifier\n",
        "\n",
        "# Define the parameter grid for each model\n",
        "knn_param_grid = {'n_neighbors': [1+(2*i) for i in range(1, 10)]}\n",
        "dt_param_grid = {'max_depth': [None, 1, 5, 10, 15, 20, 50]}\n",
        "rf_param_grid = {'n_estimators': [50, 100, 200], 'max_depth': [None, 1, 5, 10, 15, 20, 50]}\n",
        "\n",
        "knn = KNeighborsClassifier()\n",
        "dt = DecisionTreeClassifier()\n",
        "rf = RandomForestClassifier()"
      ],
      "metadata": {
        "id": "3yrtgsHt819-"
      },
      "execution_count": null,
      "outputs": []
    },
    {
      "cell_type": "code",
      "source": [
        "knn_grid = GridSearchCV(knn, knn_param_grid, cv=5, verbose = 4, scoring='f1')\n",
        "knn_grid.fit(x_train_pca, y_train)"
      ],
      "metadata": {
        "colab": {
          "base_uri": "https://localhost:8080/",
          "height": 967
        },
        "id": "j20bRevZ87LU",
        "outputId": "fc85757e-0274-47d9-8e2a-e617e6d7ba7d"
      },
      "execution_count": null,
      "outputs": [
        {
          "output_type": "stream",
          "name": "stdout",
          "text": [
            "Fitting 5 folds for each of 9 candidates, totalling 45 fits\n",
            "[CV 1/5] END .....................n_neighbors=3;, score=0.718 total time=   0.2s\n",
            "[CV 2/5] END .....................n_neighbors=3;, score=0.747 total time=   0.0s\n",
            "[CV 3/5] END .....................n_neighbors=3;, score=0.756 total time=   0.2s\n",
            "[CV 4/5] END .....................n_neighbors=3;, score=0.754 total time=   0.1s\n",
            "[CV 5/5] END .....................n_neighbors=3;, score=0.757 total time=   0.0s\n",
            "[CV 1/5] END .....................n_neighbors=5;, score=0.734 total time=   0.0s\n",
            "[CV 2/5] END .....................n_neighbors=5;, score=0.762 total time=   0.0s\n",
            "[CV 3/5] END .....................n_neighbors=5;, score=0.752 total time=   0.0s\n",
            "[CV 4/5] END .....................n_neighbors=5;, score=0.713 total time=   0.0s\n",
            "[CV 5/5] END .....................n_neighbors=5;, score=0.776 total time=   0.0s\n",
            "[CV 1/5] END .....................n_neighbors=7;, score=0.760 total time=   0.0s\n",
            "[CV 2/5] END .....................n_neighbors=7;, score=0.747 total time=   0.0s\n",
            "[CV 3/5] END .....................n_neighbors=7;, score=0.712 total time=   0.0s\n",
            "[CV 4/5] END .....................n_neighbors=7;, score=0.741 total time=   0.0s\n",
            "[CV 5/5] END .....................n_neighbors=7;, score=0.748 total time=   0.0s\n",
            "[CV 1/5] END .....................n_neighbors=9;, score=0.773 total time=   0.0s\n",
            "[CV 2/5] END .....................n_neighbors=9;, score=0.766 total time=   0.0s\n",
            "[CV 3/5] END .....................n_neighbors=9;, score=0.724 total time=   0.0s\n",
            "[CV 4/5] END .....................n_neighbors=9;, score=0.723 total time=   0.0s\n",
            "[CV 5/5] END .....................n_neighbors=9;, score=0.758 total time=   0.0s\n",
            "[CV 1/5] END ....................n_neighbors=11;, score=0.748 total time=   0.0s\n",
            "[CV 2/5] END ....................n_neighbors=11;, score=0.770 total time=   0.0s\n",
            "[CV 3/5] END ....................n_neighbors=11;, score=0.697 total time=   0.0s\n",
            "[CV 4/5] END ....................n_neighbors=11;, score=0.713 total time=   0.0s\n",
            "[CV 5/5] END ....................n_neighbors=11;, score=0.769 total time=   0.0s\n",
            "[CV 1/5] END ....................n_neighbors=13;, score=0.751 total time=   0.0s\n",
            "[CV 2/5] END ....................n_neighbors=13;, score=0.740 total time=   0.0s\n",
            "[CV 3/5] END ....................n_neighbors=13;, score=0.716 total time=   0.0s\n",
            "[CV 4/5] END ....................n_neighbors=13;, score=0.709 total time=   0.0s\n",
            "[CV 5/5] END ....................n_neighbors=13;, score=0.755 total time=   0.0s\n",
            "[CV 1/5] END ....................n_neighbors=15;, score=0.722 total time=   0.0s\n",
            "[CV 2/5] END ....................n_neighbors=15;, score=0.744 total time=   0.0s\n",
            "[CV 3/5] END ....................n_neighbors=15;, score=0.708 total time=   0.0s\n",
            "[CV 4/5] END ....................n_neighbors=15;, score=0.681 total time=   0.0s\n",
            "[CV 5/5] END ....................n_neighbors=15;, score=0.746 total time=   0.0s\n",
            "[CV 1/5] END ....................n_neighbors=17;, score=0.711 total time=   0.0s\n",
            "[CV 2/5] END ....................n_neighbors=17;, score=0.741 total time=   0.0s\n",
            "[CV 3/5] END ....................n_neighbors=17;, score=0.733 total time=   0.0s\n",
            "[CV 4/5] END ....................n_neighbors=17;, score=0.684 total time=   0.0s\n",
            "[CV 5/5] END ....................n_neighbors=17;, score=0.733 total time=   0.0s\n",
            "[CV 1/5] END ....................n_neighbors=19;, score=0.709 total time=   0.0s\n",
            "[CV 2/5] END ....................n_neighbors=19;, score=0.756 total time=   0.0s\n",
            "[CV 3/5] END ....................n_neighbors=19;, score=0.706 total time=   0.0s\n",
            "[CV 4/5] END ....................n_neighbors=19;, score=0.681 total time=   0.0s\n",
            "[CV 5/5] END ....................n_neighbors=19;, score=0.742 total time=   0.0s\n"
          ]
        },
        {
          "output_type": "execute_result",
          "data": {
            "text/plain": [
              "GridSearchCV(cv=5, estimator=KNeighborsClassifier(),\n",
              "             param_grid={'n_neighbors': [3, 5, 7, 9, 11, 13, 15, 17, 19]},\n",
              "             scoring='f1', verbose=4)"
            ],
            "text/html": [
              "<style>#sk-container-id-16 {color: black;background-color: white;}#sk-container-id-16 pre{padding: 0;}#sk-container-id-16 div.sk-toggleable {background-color: white;}#sk-container-id-16 label.sk-toggleable__label {cursor: pointer;display: block;width: 100%;margin-bottom: 0;padding: 0.3em;box-sizing: border-box;text-align: center;}#sk-container-id-16 label.sk-toggleable__label-arrow:before {content: \"▸\";float: left;margin-right: 0.25em;color: #696969;}#sk-container-id-16 label.sk-toggleable__label-arrow:hover:before {color: black;}#sk-container-id-16 div.sk-estimator:hover label.sk-toggleable__label-arrow:before {color: black;}#sk-container-id-16 div.sk-toggleable__content {max-height: 0;max-width: 0;overflow: hidden;text-align: left;background-color: #f0f8ff;}#sk-container-id-16 div.sk-toggleable__content pre {margin: 0.2em;color: black;border-radius: 0.25em;background-color: #f0f8ff;}#sk-container-id-16 input.sk-toggleable__control:checked~div.sk-toggleable__content {max-height: 200px;max-width: 100%;overflow: auto;}#sk-container-id-16 input.sk-toggleable__control:checked~label.sk-toggleable__label-arrow:before {content: \"▾\";}#sk-container-id-16 div.sk-estimator input.sk-toggleable__control:checked~label.sk-toggleable__label {background-color: #d4ebff;}#sk-container-id-16 div.sk-label input.sk-toggleable__control:checked~label.sk-toggleable__label {background-color: #d4ebff;}#sk-container-id-16 input.sk-hidden--visually {border: 0;clip: rect(1px 1px 1px 1px);clip: rect(1px, 1px, 1px, 1px);height: 1px;margin: -1px;overflow: hidden;padding: 0;position: absolute;width: 1px;}#sk-container-id-16 div.sk-estimator {font-family: monospace;background-color: #f0f8ff;border: 1px dotted black;border-radius: 0.25em;box-sizing: border-box;margin-bottom: 0.5em;}#sk-container-id-16 div.sk-estimator:hover {background-color: #d4ebff;}#sk-container-id-16 div.sk-parallel-item::after {content: \"\";width: 100%;border-bottom: 1px solid gray;flex-grow: 1;}#sk-container-id-16 div.sk-label:hover label.sk-toggleable__label {background-color: #d4ebff;}#sk-container-id-16 div.sk-serial::before {content: \"\";position: absolute;border-left: 1px solid gray;box-sizing: border-box;top: 0;bottom: 0;left: 50%;z-index: 0;}#sk-container-id-16 div.sk-serial {display: flex;flex-direction: column;align-items: center;background-color: white;padding-right: 0.2em;padding-left: 0.2em;position: relative;}#sk-container-id-16 div.sk-item {position: relative;z-index: 1;}#sk-container-id-16 div.sk-parallel {display: flex;align-items: stretch;justify-content: center;background-color: white;position: relative;}#sk-container-id-16 div.sk-item::before, #sk-container-id-16 div.sk-parallel-item::before {content: \"\";position: absolute;border-left: 1px solid gray;box-sizing: border-box;top: 0;bottom: 0;left: 50%;z-index: -1;}#sk-container-id-16 div.sk-parallel-item {display: flex;flex-direction: column;z-index: 1;position: relative;background-color: white;}#sk-container-id-16 div.sk-parallel-item:first-child::after {align-self: flex-end;width: 50%;}#sk-container-id-16 div.sk-parallel-item:last-child::after {align-self: flex-start;width: 50%;}#sk-container-id-16 div.sk-parallel-item:only-child::after {width: 0;}#sk-container-id-16 div.sk-dashed-wrapped {border: 1px dashed gray;margin: 0 0.4em 0.5em 0.4em;box-sizing: border-box;padding-bottom: 0.4em;background-color: white;}#sk-container-id-16 div.sk-label label {font-family: monospace;font-weight: bold;display: inline-block;line-height: 1.2em;}#sk-container-id-16 div.sk-label-container {text-align: center;}#sk-container-id-16 div.sk-container {/* jupyter's `normalize.less` sets `[hidden] { display: none; }` but bootstrap.min.css set `[hidden] { display: none !important; }` so we also need the `!important` here to be able to override the default hidden behavior on the sphinx rendered scikit-learn.org. See: https://github.com/scikit-learn/scikit-learn/issues/21755 */display: inline-block !important;position: relative;}#sk-container-id-16 div.sk-text-repr-fallback {display: none;}</style><div id=\"sk-container-id-16\" class=\"sk-top-container\"><div class=\"sk-text-repr-fallback\"><pre>GridSearchCV(cv=5, estimator=KNeighborsClassifier(),\n",
              "             param_grid={&#x27;n_neighbors&#x27;: [3, 5, 7, 9, 11, 13, 15, 17, 19]},\n",
              "             scoring=&#x27;f1&#x27;, verbose=4)</pre><b>In a Jupyter environment, please rerun this cell to show the HTML representation or trust the notebook. <br />On GitHub, the HTML representation is unable to render, please try loading this page with nbviewer.org.</b></div><div class=\"sk-container\" hidden><div class=\"sk-item sk-dashed-wrapped\"><div class=\"sk-label-container\"><div class=\"sk-label sk-toggleable\"><input class=\"sk-toggleable__control sk-hidden--visually\" id=\"sk-estimator-id-44\" type=\"checkbox\" ><label for=\"sk-estimator-id-44\" class=\"sk-toggleable__label sk-toggleable__label-arrow\">GridSearchCV</label><div class=\"sk-toggleable__content\"><pre>GridSearchCV(cv=5, estimator=KNeighborsClassifier(),\n",
              "             param_grid={&#x27;n_neighbors&#x27;: [3, 5, 7, 9, 11, 13, 15, 17, 19]},\n",
              "             scoring=&#x27;f1&#x27;, verbose=4)</pre></div></div></div><div class=\"sk-parallel\"><div class=\"sk-parallel-item\"><div class=\"sk-item\"><div class=\"sk-label-container\"><div class=\"sk-label sk-toggleable\"><input class=\"sk-toggleable__control sk-hidden--visually\" id=\"sk-estimator-id-45\" type=\"checkbox\" ><label for=\"sk-estimator-id-45\" class=\"sk-toggleable__label sk-toggleable__label-arrow\">estimator: KNeighborsClassifier</label><div class=\"sk-toggleable__content\"><pre>KNeighborsClassifier()</pre></div></div></div><div class=\"sk-serial\"><div class=\"sk-item\"><div class=\"sk-estimator sk-toggleable\"><input class=\"sk-toggleable__control sk-hidden--visually\" id=\"sk-estimator-id-46\" type=\"checkbox\" ><label for=\"sk-estimator-id-46\" class=\"sk-toggleable__label sk-toggleable__label-arrow\">KNeighborsClassifier</label><div class=\"sk-toggleable__content\"><pre>KNeighborsClassifier()</pre></div></div></div></div></div></div></div></div></div></div>"
            ]
          },
          "metadata": {},
          "execution_count": 72
        }
      ]
    },
    {
      "cell_type": "code",
      "source": [
        "knn_grid.best_params_, knn_grid.best_score_"
      ],
      "metadata": {
        "colab": {
          "base_uri": "https://localhost:8080/"
        },
        "id": "UbE4tSJr9FoS",
        "outputId": "03bb2ade-959b-450b-f6dc-36e4bb032351"
      },
      "execution_count": null,
      "outputs": [
        {
          "output_type": "execute_result",
          "data": {
            "text/plain": [
              "({'n_neighbors': 9}, 0.7487957508647198)"
            ]
          },
          "metadata": {},
          "execution_count": 73
        }
      ]
    },
    {
      "cell_type": "code",
      "source": [
        "dt_grid = GridSearchCV(dt, dt_param_grid, cv=5, verbose = 4, scoring='f1')\n",
        "dt_grid.fit(x_train_pca, y_train)"
      ],
      "metadata": {
        "colab": {
          "base_uri": "https://localhost:8080/",
          "height": 783
        },
        "id": "tMT9xGStCJ49",
        "outputId": "f27e0bea-fedd-48d8-8376-8f63d4c109c2"
      },
      "execution_count": null,
      "outputs": [
        {
          "output_type": "stream",
          "name": "stdout",
          "text": [
            "Fitting 5 folds for each of 7 candidates, totalling 35 fits\n",
            "[CV 1/5] END ....................max_depth=None;, score=0.678 total time=   0.4s\n",
            "[CV 2/5] END ....................max_depth=None;, score=0.717 total time=   0.4s\n",
            "[CV 3/5] END ....................max_depth=None;, score=0.655 total time=   0.4s\n",
            "[CV 4/5] END ....................max_depth=None;, score=0.684 total time=   0.4s\n",
            "[CV 5/5] END ....................max_depth=None;, score=0.736 total time=   0.4s\n",
            "[CV 1/5] END .......................max_depth=1;, score=0.548 total time=   0.1s\n",
            "[CV 2/5] END .......................max_depth=1;, score=0.615 total time=   0.1s\n",
            "[CV 3/5] END .......................max_depth=1;, score=0.584 total time=   0.1s\n",
            "[CV 4/5] END .......................max_depth=1;, score=0.450 total time=   0.1s\n",
            "[CV 5/5] END .......................max_depth=1;, score=0.601 total time=   0.1s\n",
            "[CV 1/5] END .......................max_depth=5;, score=0.661 total time=   0.2s\n",
            "[CV 2/5] END .......................max_depth=5;, score=0.705 total time=   0.2s\n",
            "[CV 3/5] END .......................max_depth=5;, score=0.653 total time=   0.2s\n",
            "[CV 4/5] END .......................max_depth=5;, score=0.582 total time=   0.2s\n",
            "[CV 5/5] END .......................max_depth=5;, score=0.713 total time=   0.2s\n",
            "[CV 1/5] END ......................max_depth=10;, score=0.670 total time=   0.4s\n",
            "[CV 2/5] END ......................max_depth=10;, score=0.701 total time=   0.4s\n",
            "[CV 3/5] END ......................max_depth=10;, score=0.646 total time=   0.4s\n",
            "[CV 4/5] END ......................max_depth=10;, score=0.684 total time=   0.4s\n",
            "[CV 5/5] END ......................max_depth=10;, score=0.717 total time=   0.4s\n",
            "[CV 1/5] END ......................max_depth=15;, score=0.684 total time=   0.4s\n",
            "[CV 2/5] END ......................max_depth=15;, score=0.689 total time=   0.4s\n",
            "[CV 3/5] END ......................max_depth=15;, score=0.649 total time=   0.4s\n",
            "[CV 4/5] END ......................max_depth=15;, score=0.672 total time=   0.4s\n",
            "[CV 5/5] END ......................max_depth=15;, score=0.750 total time=   0.4s\n",
            "[CV 1/5] END ......................max_depth=20;, score=0.684 total time=   0.4s\n",
            "[CV 2/5] END ......................max_depth=20;, score=0.684 total time=   0.4s\n",
            "[CV 3/5] END ......................max_depth=20;, score=0.646 total time=   0.4s\n",
            "[CV 4/5] END ......................max_depth=20;, score=0.713 total time=   0.4s\n",
            "[CV 5/5] END ......................max_depth=20;, score=0.733 total time=   0.4s\n",
            "[CV 1/5] END ......................max_depth=50;, score=0.675 total time=   0.4s\n",
            "[CV 2/5] END ......................max_depth=50;, score=0.726 total time=   0.5s\n",
            "[CV 3/5] END ......................max_depth=50;, score=0.646 total time=   0.4s\n",
            "[CV 4/5] END ......................max_depth=50;, score=0.686 total time=   0.5s\n",
            "[CV 5/5] END ......................max_depth=50;, score=0.720 total time=   0.4s\n"
          ]
        },
        {
          "output_type": "execute_result",
          "data": {
            "text/plain": [
              "GridSearchCV(cv=5, estimator=DecisionTreeClassifier(),\n",
              "             param_grid={'max_depth': [None, 1, 5, 10, 15, 20, 50]},\n",
              "             scoring='f1', verbose=4)"
            ],
            "text/html": [
              "<style>#sk-container-id-20 {color: black;background-color: white;}#sk-container-id-20 pre{padding: 0;}#sk-container-id-20 div.sk-toggleable {background-color: white;}#sk-container-id-20 label.sk-toggleable__label {cursor: pointer;display: block;width: 100%;margin-bottom: 0;padding: 0.3em;box-sizing: border-box;text-align: center;}#sk-container-id-20 label.sk-toggleable__label-arrow:before {content: \"▸\";float: left;margin-right: 0.25em;color: #696969;}#sk-container-id-20 label.sk-toggleable__label-arrow:hover:before {color: black;}#sk-container-id-20 div.sk-estimator:hover label.sk-toggleable__label-arrow:before {color: black;}#sk-container-id-20 div.sk-toggleable__content {max-height: 0;max-width: 0;overflow: hidden;text-align: left;background-color: #f0f8ff;}#sk-container-id-20 div.sk-toggleable__content pre {margin: 0.2em;color: black;border-radius: 0.25em;background-color: #f0f8ff;}#sk-container-id-20 input.sk-toggleable__control:checked~div.sk-toggleable__content {max-height: 200px;max-width: 100%;overflow: auto;}#sk-container-id-20 input.sk-toggleable__control:checked~label.sk-toggleable__label-arrow:before {content: \"▾\";}#sk-container-id-20 div.sk-estimator input.sk-toggleable__control:checked~label.sk-toggleable__label {background-color: #d4ebff;}#sk-container-id-20 div.sk-label input.sk-toggleable__control:checked~label.sk-toggleable__label {background-color: #d4ebff;}#sk-container-id-20 input.sk-hidden--visually {border: 0;clip: rect(1px 1px 1px 1px);clip: rect(1px, 1px, 1px, 1px);height: 1px;margin: -1px;overflow: hidden;padding: 0;position: absolute;width: 1px;}#sk-container-id-20 div.sk-estimator {font-family: monospace;background-color: #f0f8ff;border: 1px dotted black;border-radius: 0.25em;box-sizing: border-box;margin-bottom: 0.5em;}#sk-container-id-20 div.sk-estimator:hover {background-color: #d4ebff;}#sk-container-id-20 div.sk-parallel-item::after {content: \"\";width: 100%;border-bottom: 1px solid gray;flex-grow: 1;}#sk-container-id-20 div.sk-label:hover label.sk-toggleable__label {background-color: #d4ebff;}#sk-container-id-20 div.sk-serial::before {content: \"\";position: absolute;border-left: 1px solid gray;box-sizing: border-box;top: 0;bottom: 0;left: 50%;z-index: 0;}#sk-container-id-20 div.sk-serial {display: flex;flex-direction: column;align-items: center;background-color: white;padding-right: 0.2em;padding-left: 0.2em;position: relative;}#sk-container-id-20 div.sk-item {position: relative;z-index: 1;}#sk-container-id-20 div.sk-parallel {display: flex;align-items: stretch;justify-content: center;background-color: white;position: relative;}#sk-container-id-20 div.sk-item::before, #sk-container-id-20 div.sk-parallel-item::before {content: \"\";position: absolute;border-left: 1px solid gray;box-sizing: border-box;top: 0;bottom: 0;left: 50%;z-index: -1;}#sk-container-id-20 div.sk-parallel-item {display: flex;flex-direction: column;z-index: 1;position: relative;background-color: white;}#sk-container-id-20 div.sk-parallel-item:first-child::after {align-self: flex-end;width: 50%;}#sk-container-id-20 div.sk-parallel-item:last-child::after {align-self: flex-start;width: 50%;}#sk-container-id-20 div.sk-parallel-item:only-child::after {width: 0;}#sk-container-id-20 div.sk-dashed-wrapped {border: 1px dashed gray;margin: 0 0.4em 0.5em 0.4em;box-sizing: border-box;padding-bottom: 0.4em;background-color: white;}#sk-container-id-20 div.sk-label label {font-family: monospace;font-weight: bold;display: inline-block;line-height: 1.2em;}#sk-container-id-20 div.sk-label-container {text-align: center;}#sk-container-id-20 div.sk-container {/* jupyter's `normalize.less` sets `[hidden] { display: none; }` but bootstrap.min.css set `[hidden] { display: none !important; }` so we also need the `!important` here to be able to override the default hidden behavior on the sphinx rendered scikit-learn.org. See: https://github.com/scikit-learn/scikit-learn/issues/21755 */display: inline-block !important;position: relative;}#sk-container-id-20 div.sk-text-repr-fallback {display: none;}</style><div id=\"sk-container-id-20\" class=\"sk-top-container\"><div class=\"sk-text-repr-fallback\"><pre>GridSearchCV(cv=5, estimator=DecisionTreeClassifier(),\n",
              "             param_grid={&#x27;max_depth&#x27;: [None, 1, 5, 10, 15, 20, 50]},\n",
              "             scoring=&#x27;f1&#x27;, verbose=4)</pre><b>In a Jupyter environment, please rerun this cell to show the HTML representation or trust the notebook. <br />On GitHub, the HTML representation is unable to render, please try loading this page with nbviewer.org.</b></div><div class=\"sk-container\" hidden><div class=\"sk-item sk-dashed-wrapped\"><div class=\"sk-label-container\"><div class=\"sk-label sk-toggleable\"><input class=\"sk-toggleable__control sk-hidden--visually\" id=\"sk-estimator-id-56\" type=\"checkbox\" ><label for=\"sk-estimator-id-56\" class=\"sk-toggleable__label sk-toggleable__label-arrow\">GridSearchCV</label><div class=\"sk-toggleable__content\"><pre>GridSearchCV(cv=5, estimator=DecisionTreeClassifier(),\n",
              "             param_grid={&#x27;max_depth&#x27;: [None, 1, 5, 10, 15, 20, 50]},\n",
              "             scoring=&#x27;f1&#x27;, verbose=4)</pre></div></div></div><div class=\"sk-parallel\"><div class=\"sk-parallel-item\"><div class=\"sk-item\"><div class=\"sk-label-container\"><div class=\"sk-label sk-toggleable\"><input class=\"sk-toggleable__control sk-hidden--visually\" id=\"sk-estimator-id-57\" type=\"checkbox\" ><label for=\"sk-estimator-id-57\" class=\"sk-toggleable__label sk-toggleable__label-arrow\">estimator: DecisionTreeClassifier</label><div class=\"sk-toggleable__content\"><pre>DecisionTreeClassifier()</pre></div></div></div><div class=\"sk-serial\"><div class=\"sk-item\"><div class=\"sk-estimator sk-toggleable\"><input class=\"sk-toggleable__control sk-hidden--visually\" id=\"sk-estimator-id-58\" type=\"checkbox\" ><label for=\"sk-estimator-id-58\" class=\"sk-toggleable__label sk-toggleable__label-arrow\">DecisionTreeClassifier</label><div class=\"sk-toggleable__content\"><pre>DecisionTreeClassifier()</pre></div></div></div></div></div></div></div></div></div></div>"
            ]
          },
          "metadata": {},
          "execution_count": 85
        }
      ]
    },
    {
      "cell_type": "code",
      "source": [
        "dt_grid.best_params_, dt_grid.best_score_"
      ],
      "metadata": {
        "colab": {
          "base_uri": "https://localhost:8080/"
        },
        "id": "HMaELZYxCNVc",
        "outputId": "a6a9d2aa-35b8-48e5-e556-ece49c37956a"
      },
      "execution_count": null,
      "outputs": [
        {
          "output_type": "execute_result",
          "data": {
            "text/plain": [
              "({'max_depth': None}, 0.6939630100007109)"
            ]
          },
          "metadata": {},
          "execution_count": 90
        }
      ]
    },
    {
      "cell_type": "code",
      "source": [
        "filename = 'pca_decision_tree.sav'\n",
        "joblib.dump(dt_grid, filename)"
      ],
      "metadata": {
        "colab": {
          "base_uri": "https://localhost:8080/"
        },
        "id": "flJiVIQNMRkm",
        "outputId": "65912165-4087-41a7-b307-88df72dad6e5"
      },
      "execution_count": null,
      "outputs": [
        {
          "output_type": "execute_result",
          "data": {
            "text/plain": [
              "['pca_decision_tree.sav']"
            ]
          },
          "metadata": {},
          "execution_count": 91
        }
      ]
    },
    {
      "cell_type": "code",
      "source": [
        "rf_grid = GridSearchCV(rf, rf_param_grid, cv=5, verbose = 4, scoring='f1')\n",
        "rf_grid.fit(x_train_pca, y_train)"
      ],
      "metadata": {
        "colab": {
          "base_uri": "https://localhost:8080/",
          "height": 1000
        },
        "id": "go1sM-16CyPG",
        "outputId": "e9e3cf3a-5f26-42d7-95a9-6dfef250289d"
      },
      "execution_count": null,
      "outputs": [
        {
          "output_type": "stream",
          "name": "stdout",
          "text": [
            "Fitting 5 folds for each of 21 candidates, totalling 105 fits\n",
            "[CV 1/5] END ...max_depth=None, n_estimators=50;, score=0.700 total time=   0.7s\n",
            "[CV 2/5] END ...max_depth=None, n_estimators=50;, score=0.739 total time=   0.8s\n",
            "[CV 3/5] END ...max_depth=None, n_estimators=50;, score=0.713 total time=   0.8s\n",
            "[CV 4/5] END ...max_depth=None, n_estimators=50;, score=0.683 total time=   0.8s\n",
            "[CV 5/5] END ...max_depth=None, n_estimators=50;, score=0.715 total time=   0.7s\n",
            "[CV 1/5] END ..max_depth=None, n_estimators=100;, score=0.698 total time=   1.5s\n",
            "[CV 2/5] END ..max_depth=None, n_estimators=100;, score=0.735 total time=   1.5s\n",
            "[CV 3/5] END ..max_depth=None, n_estimators=100;, score=0.694 total time=   1.5s\n",
            "[CV 4/5] END ..max_depth=None, n_estimators=100;, score=0.713 total time=   1.5s\n",
            "[CV 5/5] END ..max_depth=None, n_estimators=100;, score=0.771 total time=   1.5s\n",
            "[CV 1/5] END ..max_depth=None, n_estimators=200;, score=0.742 total time=   3.0s\n",
            "[CV 2/5] END ..max_depth=None, n_estimators=200;, score=0.718 total time=   3.0s\n",
            "[CV 3/5] END ..max_depth=None, n_estimators=200;, score=0.704 total time=   2.9s\n",
            "[CV 4/5] END ..max_depth=None, n_estimators=200;, score=0.714 total time=   3.0s\n",
            "[CV 5/5] END ..max_depth=None, n_estimators=200;, score=0.784 total time=   3.0s\n",
            "[CV 1/5] END ......max_depth=1, n_estimators=50;, score=0.626 total time=   0.2s\n",
            "[CV 2/5] END ......max_depth=1, n_estimators=50;, score=0.740 total time=   0.2s\n",
            "[CV 3/5] END ......max_depth=1, n_estimators=50;, score=0.644 total time=   0.2s\n",
            "[CV 4/5] END ......max_depth=1, n_estimators=50;, score=0.630 total time=   0.2s\n",
            "[CV 5/5] END ......max_depth=1, n_estimators=50;, score=0.687 total time=   0.2s\n",
            "[CV 1/5] END .....max_depth=1, n_estimators=100;, score=0.684 total time=   0.3s\n",
            "[CV 2/5] END .....max_depth=1, n_estimators=100;, score=0.678 total time=   0.3s\n",
            "[CV 3/5] END .....max_depth=1, n_estimators=100;, score=0.670 total time=   0.3s\n",
            "[CV 4/5] END .....max_depth=1, n_estimators=100;, score=0.611 total time=   0.3s\n",
            "[CV 5/5] END .....max_depth=1, n_estimators=100;, score=0.714 total time=   0.3s\n",
            "[CV 1/5] END .....max_depth=1, n_estimators=200;, score=0.716 total time=   0.7s\n",
            "[CV 2/5] END .....max_depth=1, n_estimators=200;, score=0.736 total time=   0.7s\n",
            "[CV 3/5] END .....max_depth=1, n_estimators=200;, score=0.658 total time=   0.7s\n",
            "[CV 4/5] END .....max_depth=1, n_estimators=200;, score=0.690 total time=   0.7s\n",
            "[CV 5/5] END .....max_depth=1, n_estimators=200;, score=0.723 total time=   0.7s\n",
            "[CV 1/5] END ......max_depth=5, n_estimators=50;, score=0.708 total time=   0.5s\n",
            "[CV 2/5] END ......max_depth=5, n_estimators=50;, score=0.759 total time=   0.5s\n",
            "[CV 3/5] END ......max_depth=5, n_estimators=50;, score=0.742 total time=   0.5s\n",
            "[CV 4/5] END ......max_depth=5, n_estimators=50;, score=0.700 total time=   0.5s\n",
            "[CV 5/5] END ......max_depth=5, n_estimators=50;, score=0.773 total time=   0.5s\n",
            "[CV 1/5] END .....max_depth=5, n_estimators=100;, score=0.732 total time=   0.9s\n",
            "[CV 2/5] END .....max_depth=5, n_estimators=100;, score=0.760 total time=   0.9s\n",
            "[CV 3/5] END .....max_depth=5, n_estimators=100;, score=0.690 total time=   0.9s\n",
            "[CV 4/5] END .....max_depth=5, n_estimators=100;, score=0.723 total time=   0.9s\n",
            "[CV 5/5] END .....max_depth=5, n_estimators=100;, score=0.795 total time=   0.9s\n",
            "[CV 1/5] END .....max_depth=5, n_estimators=200;, score=0.727 total time=   1.8s\n",
            "[CV 2/5] END .....max_depth=5, n_estimators=200;, score=0.761 total time=   1.8s\n",
            "[CV 3/5] END .....max_depth=5, n_estimators=200;, score=0.733 total time=   1.8s\n",
            "[CV 4/5] END .....max_depth=5, n_estimators=200;, score=0.709 total time=   1.8s\n",
            "[CV 5/5] END .....max_depth=5, n_estimators=200;, score=0.796 total time=   1.8s\n",
            "[CV 1/5] END .....max_depth=10, n_estimators=50;, score=0.740 total time=   0.7s\n",
            "[CV 2/5] END .....max_depth=10, n_estimators=50;, score=0.763 total time=   0.7s\n",
            "[CV 3/5] END .....max_depth=10, n_estimators=50;, score=0.726 total time=   0.7s\n",
            "[CV 4/5] END .....max_depth=10, n_estimators=50;, score=0.739 total time=   0.7s\n",
            "[CV 5/5] END .....max_depth=10, n_estimators=50;, score=0.771 total time=   0.7s\n",
            "[CV 1/5] END ....max_depth=10, n_estimators=100;, score=0.722 total time=   1.3s\n",
            "[CV 2/5] END ....max_depth=10, n_estimators=100;, score=0.722 total time=   1.4s\n",
            "[CV 3/5] END ....max_depth=10, n_estimators=100;, score=0.717 total time=   1.3s\n",
            "[CV 4/5] END ....max_depth=10, n_estimators=100;, score=0.738 total time=   1.3s\n",
            "[CV 5/5] END ....max_depth=10, n_estimators=100;, score=0.733 total time=   1.3s\n",
            "[CV 1/5] END ....max_depth=10, n_estimators=200;, score=0.728 total time=   2.7s\n",
            "[CV 2/5] END ....max_depth=10, n_estimators=200;, score=0.752 total time=   2.7s\n",
            "[CV 3/5] END ....max_depth=10, n_estimators=200;, score=0.706 total time=   2.7s\n",
            "[CV 4/5] END ....max_depth=10, n_estimators=200;, score=0.693 total time=   2.7s\n",
            "[CV 5/5] END ....max_depth=10, n_estimators=200;, score=0.815 total time=   2.7s\n",
            "[CV 1/5] END .....max_depth=15, n_estimators=50;, score=0.693 total time=   0.7s\n",
            "[CV 2/5] END .....max_depth=15, n_estimators=50;, score=0.705 total time=   0.7s\n",
            "[CV 3/5] END .....max_depth=15, n_estimators=50;, score=0.657 total time=   0.7s\n",
            "[CV 4/5] END .....max_depth=15, n_estimators=50;, score=0.685 total time=   0.7s\n",
            "[CV 5/5] END .....max_depth=15, n_estimators=50;, score=0.767 total time=   0.7s\n",
            "[CV 1/5] END ....max_depth=15, n_estimators=100;, score=0.713 total time=   1.5s\n",
            "[CV 2/5] END ....max_depth=15, n_estimators=100;, score=0.732 total time=   1.5s\n",
            "[CV 3/5] END ....max_depth=15, n_estimators=100;, score=0.727 total time=   1.5s\n",
            "[CV 4/5] END ....max_depth=15, n_estimators=100;, score=0.699 total time=   1.5s\n",
            "[CV 5/5] END ....max_depth=15, n_estimators=100;, score=0.775 total time=   1.5s\n",
            "[CV 1/5] END ....max_depth=15, n_estimators=200;, score=0.714 total time=   2.9s\n",
            "[CV 2/5] END ....max_depth=15, n_estimators=200;, score=0.727 total time=   2.9s\n",
            "[CV 3/5] END ....max_depth=15, n_estimators=200;, score=0.705 total time=   2.9s\n",
            "[CV 4/5] END ....max_depth=15, n_estimators=200;, score=0.694 total time=   3.0s\n",
            "[CV 5/5] END ....max_depth=15, n_estimators=200;, score=0.777 total time=   2.9s\n",
            "[CV 1/5] END .....max_depth=20, n_estimators=50;, score=0.720 total time=   0.8s\n",
            "[CV 2/5] END .....max_depth=20, n_estimators=50;, score=0.690 total time=   0.7s\n",
            "[CV 3/5] END .....max_depth=20, n_estimators=50;, score=0.716 total time=   0.7s\n",
            "[CV 4/5] END .....max_depth=20, n_estimators=50;, score=0.676 total time=   0.8s\n",
            "[CV 5/5] END .....max_depth=20, n_estimators=50;, score=0.771 total time=   0.8s\n",
            "[CV 1/5] END ....max_depth=20, n_estimators=100;, score=0.743 total time=   1.5s\n",
            "[CV 2/5] END ....max_depth=20, n_estimators=100;, score=0.739 total time=   1.5s\n",
            "[CV 3/5] END ....max_depth=20, n_estimators=100;, score=0.698 total time=   1.5s\n",
            "[CV 4/5] END ....max_depth=20, n_estimators=100;, score=0.680 total time=   1.5s\n",
            "[CV 5/5] END ....max_depth=20, n_estimators=100;, score=0.761 total time=   1.5s\n",
            "[CV 1/5] END ....max_depth=20, n_estimators=200;, score=0.685 total time=   2.9s\n",
            "[CV 2/5] END ....max_depth=20, n_estimators=200;, score=0.735 total time=   3.0s\n",
            "[CV 3/5] END ....max_depth=20, n_estimators=200;, score=0.718 total time=   2.9s\n",
            "[CV 4/5] END ....max_depth=20, n_estimators=200;, score=0.700 total time=   2.9s\n",
            "[CV 5/5] END ....max_depth=20, n_estimators=200;, score=0.750 total time=   3.0s\n",
            "[CV 1/5] END .....max_depth=50, n_estimators=50;, score=0.717 total time=   0.8s\n",
            "[CV 2/5] END .....max_depth=50, n_estimators=50;, score=0.731 total time=   0.8s\n",
            "[CV 3/5] END .....max_depth=50, n_estimators=50;, score=0.695 total time=   0.8s\n",
            "[CV 4/5] END .....max_depth=50, n_estimators=50;, score=0.676 total time=   0.8s\n",
            "[CV 5/5] END .....max_depth=50, n_estimators=50;, score=0.706 total time=   0.7s\n",
            "[CV 1/5] END ....max_depth=50, n_estimators=100;, score=0.709 total time=   1.5s\n",
            "[CV 2/5] END ....max_depth=50, n_estimators=100;, score=0.700 total time=   1.5s\n",
            "[CV 3/5] END ....max_depth=50, n_estimators=100;, score=0.709 total time=   1.5s\n",
            "[CV 4/5] END ....max_depth=50, n_estimators=100;, score=0.706 total time=   1.5s\n",
            "[CV 5/5] END ....max_depth=50, n_estimators=100;, score=0.762 total time=   1.5s\n",
            "[CV 1/5] END ....max_depth=50, n_estimators=200;, score=0.748 total time=   3.0s\n",
            "[CV 2/5] END ....max_depth=50, n_estimators=200;, score=0.742 total time=   3.0s\n",
            "[CV 3/5] END ....max_depth=50, n_estimators=200;, score=0.696 total time=   3.0s\n",
            "[CV 4/5] END ....max_depth=50, n_estimators=200;, score=0.677 total time=   3.0s\n",
            "[CV 5/5] END ....max_depth=50, n_estimators=200;, score=0.793 total time=   3.0s\n"
          ]
        },
        {
          "output_type": "execute_result",
          "data": {
            "text/plain": [
              "GridSearchCV(cv=5, estimator=RandomForestClassifier(),\n",
              "             param_grid={'max_depth': [None, 1, 5, 10, 15, 20, 50],\n",
              "                         'n_estimators': [50, 100, 200]},\n",
              "             scoring='f1', verbose=4)"
            ],
            "text/html": [
              "<style>#sk-container-id-21 {color: black;background-color: white;}#sk-container-id-21 pre{padding: 0;}#sk-container-id-21 div.sk-toggleable {background-color: white;}#sk-container-id-21 label.sk-toggleable__label {cursor: pointer;display: block;width: 100%;margin-bottom: 0;padding: 0.3em;box-sizing: border-box;text-align: center;}#sk-container-id-21 label.sk-toggleable__label-arrow:before {content: \"▸\";float: left;margin-right: 0.25em;color: #696969;}#sk-container-id-21 label.sk-toggleable__label-arrow:hover:before {color: black;}#sk-container-id-21 div.sk-estimator:hover label.sk-toggleable__label-arrow:before {color: black;}#sk-container-id-21 div.sk-toggleable__content {max-height: 0;max-width: 0;overflow: hidden;text-align: left;background-color: #f0f8ff;}#sk-container-id-21 div.sk-toggleable__content pre {margin: 0.2em;color: black;border-radius: 0.25em;background-color: #f0f8ff;}#sk-container-id-21 input.sk-toggleable__control:checked~div.sk-toggleable__content {max-height: 200px;max-width: 100%;overflow: auto;}#sk-container-id-21 input.sk-toggleable__control:checked~label.sk-toggleable__label-arrow:before {content: \"▾\";}#sk-container-id-21 div.sk-estimator input.sk-toggleable__control:checked~label.sk-toggleable__label {background-color: #d4ebff;}#sk-container-id-21 div.sk-label input.sk-toggleable__control:checked~label.sk-toggleable__label {background-color: #d4ebff;}#sk-container-id-21 input.sk-hidden--visually {border: 0;clip: rect(1px 1px 1px 1px);clip: rect(1px, 1px, 1px, 1px);height: 1px;margin: -1px;overflow: hidden;padding: 0;position: absolute;width: 1px;}#sk-container-id-21 div.sk-estimator {font-family: monospace;background-color: #f0f8ff;border: 1px dotted black;border-radius: 0.25em;box-sizing: border-box;margin-bottom: 0.5em;}#sk-container-id-21 div.sk-estimator:hover {background-color: #d4ebff;}#sk-container-id-21 div.sk-parallel-item::after {content: \"\";width: 100%;border-bottom: 1px solid gray;flex-grow: 1;}#sk-container-id-21 div.sk-label:hover label.sk-toggleable__label {background-color: #d4ebff;}#sk-container-id-21 div.sk-serial::before {content: \"\";position: absolute;border-left: 1px solid gray;box-sizing: border-box;top: 0;bottom: 0;left: 50%;z-index: 0;}#sk-container-id-21 div.sk-serial {display: flex;flex-direction: column;align-items: center;background-color: white;padding-right: 0.2em;padding-left: 0.2em;position: relative;}#sk-container-id-21 div.sk-item {position: relative;z-index: 1;}#sk-container-id-21 div.sk-parallel {display: flex;align-items: stretch;justify-content: center;background-color: white;position: relative;}#sk-container-id-21 div.sk-item::before, #sk-container-id-21 div.sk-parallel-item::before {content: \"\";position: absolute;border-left: 1px solid gray;box-sizing: border-box;top: 0;bottom: 0;left: 50%;z-index: -1;}#sk-container-id-21 div.sk-parallel-item {display: flex;flex-direction: column;z-index: 1;position: relative;background-color: white;}#sk-container-id-21 div.sk-parallel-item:first-child::after {align-self: flex-end;width: 50%;}#sk-container-id-21 div.sk-parallel-item:last-child::after {align-self: flex-start;width: 50%;}#sk-container-id-21 div.sk-parallel-item:only-child::after {width: 0;}#sk-container-id-21 div.sk-dashed-wrapped {border: 1px dashed gray;margin: 0 0.4em 0.5em 0.4em;box-sizing: border-box;padding-bottom: 0.4em;background-color: white;}#sk-container-id-21 div.sk-label label {font-family: monospace;font-weight: bold;display: inline-block;line-height: 1.2em;}#sk-container-id-21 div.sk-label-container {text-align: center;}#sk-container-id-21 div.sk-container {/* jupyter's `normalize.less` sets `[hidden] { display: none; }` but bootstrap.min.css set `[hidden] { display: none !important; }` so we also need the `!important` here to be able to override the default hidden behavior on the sphinx rendered scikit-learn.org. See: https://github.com/scikit-learn/scikit-learn/issues/21755 */display: inline-block !important;position: relative;}#sk-container-id-21 div.sk-text-repr-fallback {display: none;}</style><div id=\"sk-container-id-21\" class=\"sk-top-container\"><div class=\"sk-text-repr-fallback\"><pre>GridSearchCV(cv=5, estimator=RandomForestClassifier(),\n",
              "             param_grid={&#x27;max_depth&#x27;: [None, 1, 5, 10, 15, 20, 50],\n",
              "                         &#x27;n_estimators&#x27;: [50, 100, 200]},\n",
              "             scoring=&#x27;f1&#x27;, verbose=4)</pre><b>In a Jupyter environment, please rerun this cell to show the HTML representation or trust the notebook. <br />On GitHub, the HTML representation is unable to render, please try loading this page with nbviewer.org.</b></div><div class=\"sk-container\" hidden><div class=\"sk-item sk-dashed-wrapped\"><div class=\"sk-label-container\"><div class=\"sk-label sk-toggleable\"><input class=\"sk-toggleable__control sk-hidden--visually\" id=\"sk-estimator-id-59\" type=\"checkbox\" ><label for=\"sk-estimator-id-59\" class=\"sk-toggleable__label sk-toggleable__label-arrow\">GridSearchCV</label><div class=\"sk-toggleable__content\"><pre>GridSearchCV(cv=5, estimator=RandomForestClassifier(),\n",
              "             param_grid={&#x27;max_depth&#x27;: [None, 1, 5, 10, 15, 20, 50],\n",
              "                         &#x27;n_estimators&#x27;: [50, 100, 200]},\n",
              "             scoring=&#x27;f1&#x27;, verbose=4)</pre></div></div></div><div class=\"sk-parallel\"><div class=\"sk-parallel-item\"><div class=\"sk-item\"><div class=\"sk-label-container\"><div class=\"sk-label sk-toggleable\"><input class=\"sk-toggleable__control sk-hidden--visually\" id=\"sk-estimator-id-60\" type=\"checkbox\" ><label for=\"sk-estimator-id-60\" class=\"sk-toggleable__label sk-toggleable__label-arrow\">estimator: RandomForestClassifier</label><div class=\"sk-toggleable__content\"><pre>RandomForestClassifier()</pre></div></div></div><div class=\"sk-serial\"><div class=\"sk-item\"><div class=\"sk-estimator sk-toggleable\"><input class=\"sk-toggleable__control sk-hidden--visually\" id=\"sk-estimator-id-61\" type=\"checkbox\" ><label for=\"sk-estimator-id-61\" class=\"sk-toggleable__label sk-toggleable__label-arrow\">RandomForestClassifier</label><div class=\"sk-toggleable__content\"><pre>RandomForestClassifier()</pre></div></div></div></div></div></div></div></div></div></div>"
            ]
          },
          "metadata": {},
          "execution_count": 88
        }
      ]
    },
    {
      "cell_type": "code",
      "source": [
        "rf_grid.best_params_, rf_grid.best_score_"
      ],
      "metadata": {
        "colab": {
          "base_uri": "https://localhost:8080/"
        },
        "id": "MjuCJ77iDOu-",
        "outputId": "1be9f0dd-6006-4eb7-9a04-7b39d2216fa6"
      },
      "execution_count": null,
      "outputs": [
        {
          "output_type": "execute_result",
          "data": {
            "text/plain": [
              "({'max_depth': 10, 'n_estimators': 50}, 0.7479328782266712)"
            ]
          },
          "metadata": {},
          "execution_count": 89
        }
      ]
    },
    {
      "cell_type": "code",
      "source": [
        "rf_grid.best_score_ < knn_grid.best_score_"
      ],
      "metadata": {
        "colab": {
          "base_uri": "https://localhost:8080/"
        },
        "id": "sJLuFGqJIJpV",
        "outputId": "c35e1790-4c38-49d1-b515-c4d35409dbc7"
      },
      "execution_count": null,
      "outputs": [
        {
          "output_type": "execute_result",
          "data": {
            "text/plain": [
              "True"
            ]
          },
          "metadata": {},
          "execution_count": 81
        }
      ]
    },
    {
      "cell_type": "code",
      "source": [
        "import joblib\n",
        "filename = 'pca_knn.sav'\n",
        "joblib.dump(knn_grid, filename)"
      ],
      "metadata": {
        "colab": {
          "base_uri": "https://localhost:8080/"
        },
        "id": "nFczQncs9ufV",
        "outputId": "027bdf23-c048-441b-ecb5-cde768f563ec"
      },
      "execution_count": null,
      "outputs": [
        {
          "output_type": "execute_result",
          "data": {
            "text/plain": [
              "['pca_knn.sav']"
            ]
          },
          "metadata": {},
          "execution_count": 43
        }
      ]
    },
    {
      "cell_type": "markdown",
      "source": [
        "## Testing..."
      ],
      "metadata": {
        "id": "zszMeACXuqQ_"
      }
    },
    {
      "cell_type": "code",
      "source": [
        "import joblib"
      ],
      "metadata": {
        "id": "u5qElM5suoO0"
      },
      "execution_count": null,
      "outputs": []
    },
    {
      "cell_type": "code",
      "source": [
        "model = joblib.load(\"/content/pca_svm_v2.sav\")"
      ],
      "metadata": {
        "id": "53qsJnDquuTG"
      },
      "execution_count": null,
      "outputs": []
    },
    {
      "cell_type": "code",
      "source": [
        "from sklearn.metrics import f1_score\n",
        "\n",
        "def test(clf):\n",
        "  y_pred=clf.predict(x_test_pca)\n",
        "  print(f\"The model's f1 score is: {f1_score(y_pred,y_test)}\")"
      ],
      "metadata": {
        "id": "iWXf3nvZuaY6"
      },
      "execution_count": null,
      "outputs": []
    },
    {
      "cell_type": "code",
      "source": [
        "test(model)"
      ],
      "metadata": {
        "colab": {
          "base_uri": "https://localhost:8080/"
        },
        "id": "Q1apG-6xukwb",
        "outputId": "9b81a259-372c-462f-f9e4-488402be1737"
      },
      "execution_count": null,
      "outputs": [
        {
          "output_type": "stream",
          "name": "stdout",
          "text": [
            "The model's f1 score is: 0.8285714285714286\n"
          ]
        }
      ]
    }
  ]
}